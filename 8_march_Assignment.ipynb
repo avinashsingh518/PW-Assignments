{
 "cells": [
  {
   "cell_type": "markdown",
   "id": "73c3ebea",
   "metadata": {},
   "source": [
    "## Q1. What is the Probability density function?"
   ]
  },
  {
   "cell_type": "markdown",
   "id": "1225c1a3",
   "metadata": {},
   "source": [
    "Ans: Probability density function and cumulative distribution function are used to define the distribution of continuous random variables. If we differentiate the cumulative distribution function of a continuous random variable it results in the probability density function. Conversely, on integrating the probability density function we get the cumulative distribution function."
   ]
  },
  {
   "cell_type": "markdown",
   "id": "c9568fe7",
   "metadata": {},
   "source": [
    "## Q2. What are the types of Probability distribution?"
   ]
  },
  {
   "cell_type": "markdown",
   "id": "f104f7eb",
   "metadata": {},
   "source": [
    "Ans: A probability distribution is a statistical function that describes all the possible values and likelihoods that a random variable can take within a given range. This range will be bounded between the minimum and maximum possible values, but precisely where the possible value is likely to be plotted on the probability distribution depends on a number of factors. These factors include the distribution's mean (average), standard deviation, skewness, and kurtosis."
   ]
  },
  {
   "cell_type": "markdown",
   "id": "be7fe86c",
   "metadata": {},
   "source": [
    "## Q3. Write a Python function to calculate the probability density function of a normal distribution with given mean and standard deviation at a given point."
   ]
  },
  {
   "cell_type": "code",
   "execution_count": 1,
   "id": "5ffdd163",
   "metadata": {},
   "outputs": [
    {
     "data": {
      "text/plain": [
       "Text(0, 0.5, 'Probability Density')"
      ]
     },
     "execution_count": 1,
     "metadata": {},
     "output_type": "execute_result"
    },
    {
     "data": {
      "image/png": "[encoded data removed]",
      "text/plain": [
       "<Figure size 640x480 with 1 Axes>"
      ]
     },
     "metadata": {},
     "output_type": "display_data"
    }
   ],
   "source": [
    "import numpy as np\n",
    "import matplotlib.pyplot as plt\n",
    " \n",
    "# Creating a series of data of in range of 1-50.\n",
    "x = np.linspace(1,50,200)\n",
    " \n",
    "#Creating a Function.\n",
    "def normal_dist(x , mean , sd):\n",
    "    prob_density = (np.pi*sd) * np.exp(-0.5*((x-mean)/sd)**2)\n",
    "    return prob_density\n",
    " \n",
    "#Calculate mean and Standard deviation.\n",
    "mean = np.mean(x)\n",
    "sd = np.std(x)\n",
    " \n",
    "#Apply function to the data.\n",
    "pdf = normal_dist(x,mean,sd)\n",
    " \n",
    "#Plotting the Results\n",
    "plt.plot(x,pdf , color = 'red')\n",
    "plt.xlabel('Data points')\n",
    "plt.ylabel('Probability Density')"
   ]
  },
  {
   "cell_type": "markdown",
   "id": "6e775c58",
   "metadata": {},
   "source": [
    "## Q4. What are the properties of Binomial distribution? Give two examples of events where binomial distribution can be applied."
   ]
  },
  {
   "cell_type": "markdown",
   "id": "c7eb6e95",
   "metadata": {},
   "source": [
    "Ans : The binomial distribution is a discrete probability distribution that describes the number of successes in a fixed number of independent trials, where each trial has only two possible outcomes (success or failure), and the probability of success is constant for each trial.\n",
    "\n",
    "Properties:\n",
    "\n",
    "There are a fixed number of trials (n).\n",
    "Each trial has only two possible outcomes (success or failure).\n",
    "The trials are independent of each other.\n",
    "The probability of success (p) is constant for each trial.\n",
    "The probability of success and failure are complementary (q = 1 - p).\n",
    "The random variable X, which represents the number of successes in n trials, has a binomial distribution.\n",
    "Examples:\n",
    "\n",
    "Flipping a coin: If you flip a fair coin (with an equal probability of heads or tails) 10 times, you can use the binomial distribution to calculate the probability of getting a certain number of heads (or tails) out of those 10 flips.\n",
    "\n",
    "Quality control: A company produces light bulbs, and they want to know the probability that a batch of 100 bulbs will have more than 10 defective bulbs. They can use the binomial distribution to model the probability of each bulb being defective, and then use that to calculate the probability of getting more than 10 defective bulbs in the batch."
   ]
  },
  {
   "cell_type": "markdown",
   "id": "0f41221d",
   "metadata": {},
   "source": [
    "## Q5. Generate a random sample of size 1000 from a binomial distribution with probability of success 0.4 and plot a histogram of the results using matplotlib."
   ]
  },
  {
   "cell_type": "code",
   "execution_count": null,
   "id": "7d10f30c",
   "metadata": {},
   "outputs": [],
   "source": [
    "from scipy.stats import binom\n",
    "import matplotlib.pyplot as plt\n",
    "# setting the values\n",
    "# of n and p\n",
    "n = 1000\n",
    "p = 0.4\n",
    "# defining list of r values\n",
    "r_values = list(range(n + 1))\n",
    "# list of pmf values\n",
    "dist = [binom.pmf(r, n, p) for r in r_values ]\n",
    "# plotting the graph \n",
    "plt.bar(r_values, dist)\n",
    "plt.show()"
   ]
  },
  {
   "cell_type": "markdown",
   "id": "b49b0e1b",
   "metadata": {},
   "source": [
    "## Q6. Write a Python function to calculate the cumulative distribution function of a Poisson distribution with given mean at a given point."
   ]
  },
  {
   "cell_type": "code",
   "execution_count": 3,
   "id": "0386da7c",
   "metadata": {},
   "outputs": [
    {
     "name": "stdout",
     "output_type": "stream",
     "text": [
      "0.9160820579686966\n"
     ]
    }
   ],
   "source": [
    "import math\n",
    "\n",
    "def poisson_cdf(mu, k):\n",
    "    \"\"\"Calculate the cumulative distribution function of a Poisson distribution with mean mu at a given point k\"\"\"\n",
    "    cdf = 0\n",
    "    for i in range(k + 1):\n",
    "        cdf += math.exp(-mu) * mu**i / math.factorial(i)\n",
    "    return cdf\n",
    "\n",
    "cdf = poisson_cdf(mu=3, k=5)\n",
    "print(cdf)"
   ]
  },
  {
   "cell_type": "markdown",
   "id": "49f824f5",
   "metadata": {},
   "source": [
    "## Q7. How Binomial distribution different from Poisson distribution?"
   ]
  },
  {
   "cell_type": "markdown",
   "id": "dae9fdb3",
   "metadata": {},
   "source": [
    "Ans :  The key differences between the two distributions are:\n",
    "\n",
    "Nature of the events: In the Binomial distribution, the events are discrete and have a binary outcome (success or failure), whereas in the Poisson distribution, the events are rare occurrences that can be considered continuous.\n",
    "\n",
    "Number of trials/samples: The Binomial distribution models the number of successes in a fixed number of trials or samples, whereas the Poisson distribution models the number of rare events that occur in a fixed interval or sample size.\n",
    "\n",
    "Probability of success/rate of occurrence: In the Binomial distribution, the probability of success is constant across trials or samples, whereas in the Poisson distribution, the rate of occurrence is constant over time or space.\n",
    "\n",
    "Assumptions: The Binomial distribution assumes that the trials are independent and identically distributed, whereas the Poisson distribution assumes that the rare events occur independently of each other and that the rate of occurrence is constant over time or space."
   ]
  },
  {
   "cell_type": "markdown",
   "id": "ad74b77b",
   "metadata": {},
   "source": [
    "## Q8. Generate a random sample of size 1000 from a Poisson distribution with mean 5 and calculate the sample mean and variance."
   ]
  },
  {
   "cell_type": "code",
   "execution_count": 4,
   "id": "bad561b8",
   "metadata": {},
   "outputs": [
    {
     "name": "stdout",
     "output_type": "stream",
     "text": [
      "Sample mean: 5.102\n",
      "Sample variance: 4.852448448448449\n"
     ]
    }
   ],
   "source": [
    "from scipy.stats import poisson\n",
    "import numpy as np\n",
    "\n",
    "sample = poisson.rvs(mu=5, size=1000)\n",
    "\n",
    "#calculate the sample mean and variance\n",
    "sample_mean = np.mean(sample)\n",
    "sample_var = np.var(sample, ddof=1)\n",
    "\n",
    "print(\"Sample mean:\", sample_mean)\n",
    "print(\"Sample variance:\", sample_var)\n"
   ]
  },
  {
   "cell_type": "markdown",
   "id": "a4598c91",
   "metadata": {},
   "source": [
    "## Q9. How mean and variance are related in Binomial distribution and Poisson distribution?"
   ]
  },
  {
   "cell_type": "markdown",
   "id": "8e3a3a57",
   "metadata": {},
   "source": [
    "In a binomial distribution, the mean (or expected value) and variance are related by the following formula:\n",
    "\n",
    "mean = np variance = np(1-p)\n",
    "where n is the number of trials and p is the probability of success in each trial.\n",
    "\n",
    "In a Poisson distribution, the mean and variance are equal and are given by:\n",
    "\n",
    "mean = variance = λ\n",
    "where λ is the rate parameter of the Poisson distribution.\n",
    "\n",
    "The relationship between mean and variance in these distributions reflects the nature of the underlying processes they model.\n",
    "\n",
    "In a binomial distribution, the variance increases as the probability of success (p) moves away from 0.5, indicating that the spread of the distribution increases as the probability of success becomes more extreme.\n",
    "\n",
    "In a Poisson distribution, the variance is equal to the mean because the distribution models events that occur randomly and independently with a constant rate, such as the number of arrivals in a fixed period of time. The constant rate λ determines both the mean and the variance, and the distribution has no underlying variability beyond what is explained by the rate parameter."
   ]
  },
  {
   "cell_type": "markdown",
   "id": "b3d8021a",
   "metadata": {},
   "source": [
    "## Q10. In normal distribution with respect to mean position, where does the least frequent data appear?"
   ]
  },
  {
   "cell_type": "markdown",
   "id": "1d5752ef",
   "metadata": {},
   "source": [
    "Ans: In a normal distribution, the least frequent data points are located in the tails of the distribution, which are the regions farthest away from the mean.\n",
    "The probability of observing a data point in the tails decreases rapidly as the distance from the mean increases."
   ]
  }
 ],
 "metadata": {
  "kernelspec": {
   "display_name": "Python 3 (ipykernel)",
   "language": "python",
   "name": "python3"
  },
  "language_info": {
   "codemirror_mode": {
    "name": "ipython",
    "version": 3
   },
   "file_extension": ".py",
   "mimetype": "text/x-python",
   "name": "python",
   "nbconvert_exporter": "python",
   "pygments_lexer": "ipython3",
   "version": "3.8.16"
  }
 },
 "nbformat": 4,
 "nbformat_minor": 5
}
