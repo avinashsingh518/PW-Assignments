{
 "cells": [
  {
   "cell_type": "markdown",
   "id": "494d52d0",
   "metadata": {},
   "source": [
    "## Q1. Create a function which will take a list as an argument and return the product of all the numbers\n",
    "## after creating a flat list.\n",
    "## Use the below-given list as an argument for your function.\n",
    "## list1 = [1,2,3,4, [44,55,66, True], False, (34,56,78,89,34), {1,2,3,3,2,1}, {1:34, \"key2\": [55, 67, 78, 89], 4: (45, 22, 61, 34)}, [56, 'data science'], 'Machine Learning']\n",
    "## Note: you must extract numeric keys and values of the dictionary also."
   ]
  },
  {
   "cell_type": "code",
   "execution_count": 8,
   "id": "5d232640",
   "metadata": {},
   "outputs": [
    {
     "data": {
      "text/plain": [
       "[1,\n",
       " 2,\n",
       " 3,\n",
       " 4,\n",
       " 44,\n",
       " 55,\n",
       " 66,\n",
       " True,\n",
       " False,\n",
       " 34,\n",
       " 56,\n",
       " 78,\n",
       " 89,\n",
       " 34,\n",
       " 1,\n",
       " 2,\n",
       " 3,\n",
       " 1,\n",
       " 34,\n",
       " 'key2',\n",
       " 55,\n",
       " 67,\n",
       " 78,\n",
       " 89,\n",
       " 4,\n",
       " 45,\n",
       " 22,\n",
       " 61,\n",
       " 34,\n",
       " 56,\n",
       " 'data science',\n",
       " 'Machine Learning']"
      ]
     },
     "execution_count": 8,
     "metadata": {},
     "output_type": "execute_result"
    }
   ],
   "source": [
    "list1 = [1,2,3,4, [44,55,66, True], False, (34,56,78,89,34), {1,2,3,3,2,1}, {1:34, \"key2\": [55, 67, 78, 89], 4: (45, 22, 61, 34)}, [56, 'data science'], 'Machine Learning']\n",
    "\n",
    "def flatted_list(list1):\n",
    "    new_list=[]\n",
    "    for i in list1:\n",
    "        if type(i) is list:\n",
    "            for j in i:\n",
    "                new_list.append(j)\n",
    "        elif type(i) is tuple:\n",
    "            for j in i:\n",
    "                new_list.append(j)\n",
    "        elif type(i) is dict:\n",
    "            \n",
    "            for j,k in i.items():\n",
    "                \n",
    "                new_list.append(j)\n",
    "                if type(k) is list:\n",
    "                     for m in k:\n",
    "                        new_list.append(m)\n",
    "                elif type(k) is tuple:\n",
    "                    for n in k:\n",
    "                        new_list.append(n)\n",
    "                else:\n",
    "                    new_list.append(k)\n",
    "                    \n",
    "                \n",
    "                \n",
    "        elif type(i) is set:\n",
    "            \n",
    "            for j in i:\n",
    "                \n",
    "                new_list.append(j)\n",
    "        else:\n",
    "            new_list.append(i)\n",
    "    return new_list\n",
    "flatted_list(list1)\n",
    "                \n",
    "            \n",
    "                \n",
    "             "
   ]
  },
  {
   "cell_type": "markdown",
   "id": "c8c064ec",
   "metadata": {},
   "source": [
    "# Q2. Write a python program for encrypting a message sent to you by your friend. The logic of encryption should be such that, for a the output should be z. For b, the output should be y. For c, the output should be x respectively. Also, the whitespace should be replaced with a dollar sign. Keep the punctuation marks unchanged.\n",
    "# Input Sentence: I want to become a Data Scientist.\n",
    "# Encrypt the above input sentence using the program you just created.\n",
    "# Note: Convert the given input sentence into lowercase before encrypting. The final output should be lowercase."
   ]
  },
  {
   "cell_type": "code",
   "execution_count": 19,
   "id": "d7f63a1a",
   "metadata": {},
   "outputs": [
    {
     "name": "stdout",
     "output_type": "stream",
     "text": [
      "enter Message for your friend:- I want to become a Data Scientist\n"
     ]
    },
    {
     "data": {
      "text/plain": [
       "'I$wznt$to$yexome$z$Dztz$Sxientist'"
      ]
     },
     "execution_count": 19,
     "metadata": {},
     "output_type": "execute_result"
    }
   ],
   "source": [
    "def encription_msg():\n",
    "    mymsg=[]\n",
    "    msg=input('enter Message for your friend:- ')\n",
    "    msg.lower()\n",
    "    for i in msg:\n",
    "        if i=='a':\n",
    "            i='z'\n",
    "            mymsg.append(i)\n",
    "        elif i=='b':\n",
    "            i='y'\n",
    "            mymsg.append(i)\n",
    "        elif  i=='c':\n",
    "            i='x'\n",
    "            mymsg.append(i)\n",
    "        elif i==' ':\n",
    "            i='$'\n",
    "            mymsg.append(i)\n",
    "        else:\n",
    "            mymsg.append(i)\n",
    "    final_msg = ''.join(mymsg)\n",
    "    return final_msg\n",
    "            \n",
    "encription_msg()    \n",
    "    "
   ]
  }
 ],
 "metadata": {
  "kernelspec": {
   "display_name": "Python 3 (ipykernel)",
   "language": "python",
   "name": "python3"
  },
  "language_info": {
   "codemirror_mode": {
    "name": "ipython",
    "version": 3
   },
   "file_extension": ".py",
   "mimetype": "text/x-python",
   "name": "python",
   "nbconvert_exporter": "python",
   "pygments_lexer": "ipython3",
   "version": "3.8.16"
  }
 },
 "nbformat": 4,
 "nbformat_minor": 5
}
