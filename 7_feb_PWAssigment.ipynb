{
 "cells": [
  {
   "cell_type": "markdown",
   "id": "f1a16baf",
   "metadata": {},
   "source": [
    "Q1. You are writing code for a company. The requirement of the company is that you create a python\n",
    "function that will check whether the password entered by the user is correct or not. The function should\n",
    "take the password as input and return the string “Valid Password” if the entered password follows the\n",
    "below-given password guidelines else it should return “Invalid Password”.\n",
    "\n",
    "Note: 1. The Password should contain at least two uppercase letters and at least two lowercase letters.\n",
    "2. The Password should contain at least a number and three special characters.\n",
    "3. The length of the password should be 10 characters long."
   ]
  },
  {
   "cell_type": "code",
   "execution_count": null,
   "id": "cf3b6625",
   "metadata": {},
   "outputs": [],
   "source": [
    "def company_pass():\n",
    "    password = input('enter password:- ')\n",
    "    l,u,p,d=0,0,0,0\n",
    "    if (len(password)>=10):\n",
    "        for i in password:\n",
    "            if(i.islower()):\n",
    "                l+=1\n",
    "            if(i.isupper()):\n",
    "                u+=1\n",
    "            if(i.isdigit()):\n",
    "                d+=1\n",
    "            if(i=='@' or i=='$' or i=='_'):\n",
    "                p+=1\n",
    "    if(l>=2 and u>=2 and p>=1 and l+p+u+d==len(password)):\n",
    "        print(\"Valid Password\")\n",
    "    else:\n",
    "        print(\"Invalid Password\")\n",
    "    \n",
    "company_pass()\n",
    "    "
   ]
  },
  {
   "cell_type": "code",
   "execution_count": null,
   "id": "fb503d2b",
   "metadata": {},
   "outputs": [],
   "source": []
  },
  {
   "cell_type": "code",
   "execution_count": null,
   "id": "efdaeb10",
   "metadata": {},
   "outputs": [],
   "source": []
  }
 ],
 "metadata": {
  "kernelspec": {
   "display_name": "Python 3 (ipykernel)",
   "language": "python",
   "name": "python3"
  },
  "language_info": {
   "codemirror_mode": {
    "name": "ipython",
    "version": 3
   },
   "file_extension": ".py",
   "mimetype": "text/x-python",
   "name": "python",
   "nbconvert_exporter": "python",
   "pygments_lexer": "ipython3",
   "version": "3.8.16"
  }
 },
 "nbformat": 4,
 "nbformat_minor": 5
}
