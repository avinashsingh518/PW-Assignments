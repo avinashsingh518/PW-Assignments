{
 "cells": [
  {
   "cell_type": "markdown",
   "id": "cc097fcb",
   "metadata": {},
   "source": [
    "# Q1. Which function is used to open a file? What are the different modes of opening a file? Explain each mode of file opening."
   ]
  },
  {
   "cell_type": "markdown",
   "id": "db19f86d",
   "metadata": {},
   "source": [
    "Ans:  use the open() method to open files.\n",
    "\n",
    "r = Open a file for reading. (default)\n",
    "w = Open a file for writing. Creates a new file if it does not exist or truncates the file if it exists.\n",
    "x =\tOpen a file for exclusive creation. If the file already exists, the operation fails.\n",
    "a =\tOpen a file for appending at the end of the file without truncating it. Creates a new file if it does not exist.\n",
    "t =\tOpen in text mode. (default)\n",
    "b =\tOpen in binary mode.\n",
    "+ =\tOpen a file for updating (reading and writing).\n",
    "\n",
    "\n",
    "\n",
    "\n"
   ]
  },
  {
   "cell_type": "markdown",
   "id": "675f101a",
   "metadata": {},
   "source": [
    "# Q2. Why close() function is used? Why is it important to close a file?"
   ]
  },
  {
   "cell_type": "markdown",
   "id": "6cb54012",
   "metadata": {},
   "source": [
    "Ans:  The close() function closes the connection between the program and an open file identified by a handle. Any unwritten system buffers are flushed to the disk, and system resources used by the file are released\n",
    "\n",
    "If you don't close a file opened for reading it can be blocked for concurrent writes. If you don't close a file opened for writing - you can loose a piece of last-written data which OS holds in the buffer."
   ]
  },
  {
   "cell_type": "markdown",
   "id": "081cc459",
   "metadata": {},
   "source": [
    "# Q3. Write a python program to create a text file. Write ‘I want to become a Data Scientist’ in that file. Then close the file. Open this file and read the content of the file."
   ]
  },
  {
   "cell_type": "code",
   "execution_count": 9,
   "id": "45f47b03",
   "metadata": {},
   "outputs": [],
   "source": [
    "# Code for write \n",
    "myfile= open('pwskills.txt','w')\n",
    "myfile.writelines('I want to become a Data Scientist')\n",
    "myfile.close()\n"
   ]
  },
  {
   "cell_type": "code",
   "execution_count": 10,
   "id": "7397ff3f",
   "metadata": {},
   "outputs": [
    {
     "data": {
      "text/plain": [
       "['I want to become a Data Scientist']"
      ]
     },
     "execution_count": 10,
     "metadata": {},
     "output_type": "execute_result"
    }
   ],
   "source": [
    "# Code for read\n",
    "myfile2 = open('pwskills.txt','r')\n",
    "myfile2.readlines()"
   ]
  },
  {
   "cell_type": "markdown",
   "id": "4c28c921",
   "metadata": {},
   "source": [
    "# Q4. Explain the following with python code: read(), readline() and readlines()."
   ]
  },
  {
   "cell_type": "markdown",
   "id": "41364f85",
   "metadata": {},
   "source": [
    "1.read() : Returns the read bytes in form of a string. Reads n bytes, if no n specified, reads the entire file.\n",
    "\n",
    "2.readline() : Reads a line of the file and returns in form of a string.For specified n, reads at most n bytes. However, does not reads more than one line, even if n exceeds the length of the line.\n",
    "\n",
    "3.readlines() : Reads all the lines and return them as each line a string element in a list."
   ]
  },
  {
   "cell_type": "markdown",
   "id": "bae7fb9b",
   "metadata": {},
   "source": [
    "#  Q5. Explain why with statement is used with open(). What is the advantage of using with statement and\n",
    "open() together?"
   ]
  },
  {
   "cell_type": "markdown",
   "id": "2e56967d",
   "metadata": {},
   "source": [
    "Ans:  Unlike open() where you have to close the file with the close() method, the with statement closes the file for you without you telling it to.\n",
    "ADVANTAGES :-\n",
    "1.because the with statement closes the file for you and you get to write less code.\n",
    "2.with statement is used in exception handling to make the code cleaner and much more readable.\n",
    "3.The with statement simplifies exception handling by encapsulating common preparation and cleanup tasks"
   ]
  },
  {
   "cell_type": "markdown",
   "id": "d4fc7866",
   "metadata": {},
   "source": [
    "# Q6. Explain the write() and writelines() functions. Give a suitable example."
   ]
  },
  {
   "cell_type": "code",
   "execution_count": null,
   "id": "d457f1f6",
   "metadata": {},
   "outputs": [],
   "source": [
    "Ans: \n",
    "1. write() function:-\n",
    "The write() function will write the content in the file without adding any extra characters.\n",
    "2.writelines() function :-\n",
    "This function writes the content of a list to a file."
   ]
  }
 ],
 "metadata": {
  "kernelspec": {
   "display_name": "Python 3 (ipykernel)",
   "language": "python",
   "name": "python3"
  },
  "language_info": {
   "codemirror_mode": {
    "name": "ipython",
    "version": 3
   },
   "file_extension": ".py",
   "mimetype": "text/x-python",
   "name": "python",
   "nbconvert_exporter": "python",
   "pygments_lexer": "ipython3",
   "version": "3.8.16"
  }
 },
 "nbformat": 4,
 "nbformat_minor": 5
}
