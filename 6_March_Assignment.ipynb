{
 "cells": [
  {
   "cell_type": "code",
   "execution_count": null,
   "id": "7d47bd77",
   "metadata": {},
   "outputs": [],
   "source": [
    "Q1. What is Statistics?"
   ]
  },
  {
   "cell_type": "markdown",
   "id": "e577c43e",
   "metadata": {},
   "source": [
    "Ans:- Statistics is a branch of applied mathematics that involves the collection, description, analysis, and inference of conclusions from quantitative data. The mathematical theories behind statistics rely heavily on differential and integral calculus, linear algebra, and probability theory."
   ]
  },
  {
   "cell_type": "markdown",
   "id": "bda3e6bd",
   "metadata": {},
   "source": [
    "Q2. Define the different types of statistics and give an example of when each type might be used."
   ]
  },
  {
   "cell_type": "markdown",
   "id": "19e8893f",
   "metadata": {},
   "source": [
    "1.Descriptive Statistics :-\n",
    "In the descriptive Statistics, the Data is described in a summarized way. The summarization is done from the sample of the population using different parameters like Mean or standard deviation. Descriptive Statistics are a way of using charts, graphs, and summary measures to organize, represent, and explain a set of Data. \n",
    "\n",
    "Data is typically arranged and displayed in tables or graphs summarizing details such as histograms, pie charts, bars or scatter plots.\n",
    "\n",
    "Descriptive Statistics are just descriptive and thus do not require normalization beyond the Data collected.\n",
    "\n",
    "EXAMPLE :- A student's grade point average (GPA), for example, provides a good understanding of descriptive statistics. The idea of a GPA is that it takes data points from a wide range of exams, classes, and grades, and averages them together to provide a general understanding of a student's overall academic performance.\n",
    "\n",
    "\n",
    "2.Inferential Statistics :-\n",
    "In the Inferential Statistics, we try to interpret the Meaning of descriptive Statistics. After the Data has been collected, analyzed, and summarised we use Inferential Statistics to describe the Meaning of the collected Data. \n",
    "\n",
    "Inferential Statistics use the probability principle to assess whether trends contained in the research sample can be generalized to the larger population from which the sample originally comes.\n",
    "\n",
    "Inferential Statistics are intended to test hypotheses and investigate relationships between variables and can be used to make population predictions.\n",
    "\n",
    "Inferential Statistics are used to draw conclusions and inferences, i.e., to make valid generalizations from samples.\n",
    "\n",
    "EXAMPLE:-  Mr. A wants to open a coffee shop in New York, USA. To design the appropriate menu, a survey is conducted on 300 residents with the aim of understanding their tastes and preferences. The survey includes people of different age groups, gender, and income class. After applying the tools of inferential statistics,"
   ]
  },
  {
   "cell_type": "markdown",
   "id": "2a81a8a8",
   "metadata": {},
   "source": [
    "Q3. What are the different types of data and how do they differ from each other? Provide an example of\n",
    "each type of data."
   ]
  },
  {
   "cell_type": "markdown",
   "id": "5375624c",
   "metadata": {},
   "source": [
    "Ans:- There are Two type of Data\n",
    "1. Categorical Data (Qualitative Data):- Categorical data represents characteristics. It is also called qualitative data, which means you cannot express it as a numerical value. Therefore, you cannot measure it. It involves variables such as words, symbols, pictures, which help you sort information based on a category—for example, holiday destinations, gender, language, etc.\n",
    "The categorical data has the following two categories of data:\n",
    "(a) Nominal Data: Nominal type of data involves variables that do not have any natural order. It is also known as nominal scale. It helps you in labeling variables without providing the numerical value. You cannot order or measure nominal data sets. Furthermore, you cannot perform any arithmetic operation on nominal variables like addition, subtraction, division, multiplication, etc.\n",
    "Example:\n",
    "1.Color of a person's hair, like blonde, brown, black, burgundy, etc., cannot be compared with one another to derive any meaningful information about it. You cannot conclude that blonde is greater or less than brown.\n",
    "(b) Ordinal Data : Ordinal means something that is in order. The ordinal type of data involves variables that follow a natural order. Ordinal variables are placed in order by their position (for example, first, second, third, etc.). As the ordinal data variables only represent a sequence, you cannot perform any arithmetic operation on these variables like addition, subtraction, division, multiplications, etc. It is primarily found in surveys, questionnaires, finance, etc.\n",
    "For example,\n",
    "1.Class ranking in a school: 8th, 9th, 10th, and so on\n",
    "2.Time of the day: morning, afternoon, dawn, evening, night, and so on\n",
    "\n",
    "2.Numerical Data (Quantitative Data) :- It is one of the simplest data types to understand. As the name says, it represents a numerical value and helps answer questions like how many, how much, how long, etc.\n",
    "Example,\n",
    "1.The number of apples\n",
    "2.The number of students in a class\n",
    "3.The height/weight of a person\n",
    "\n",
    "Based on the data sets, the quantitative data is further classified into the two following categories of data:\n",
    "1. Discrete Data\n",
    "Discrete type of data involves only integers or discrete values. It contains a finite number of values that cannot be subdivided into smaller parts. It takes into account only those items that you cannot measure but only count.\n",
    "\n",
    "For example,\n",
    "\n",
    "Number of boats on a port\n",
    "Number of employees in an organization\n",
    "You can use a bar chart to display discrete types of data.\n",
    "\n",
    "2. Continuous Data\n",
    "On the other hand, a continuous type of data is the data that you can measure. It contains an infinite number of values that can be subdivided into smaller parts. It takes into account only those items that you cannot count but only measure. It can take any value between two numbers like 45.7, 23.8, 10.4, and so on.\n",
    "\n",
    "For example,\n",
    "\n",
    "Length of pages of a book\n",
    "Time taken by athletes to finish a race\n",
    "The weight of students in a class\n",
    "It is further divided into the following categories of data:\n",
    "3. Interval Data\n",
    "Interval data values have meaningful distances between the measurements defined. It is a data type that is measured along a scale, in which each point is placed at an equal distance from one another. It involves variables containing numerical values that you can order and calculate the exact difference between them. For example, temperature, dates, time-interval (4 am, 4 pm), etc.\n",
    "4. Ratio Data\n",
    "Ratio data is identical to interval data, except it does have an absolute zero. It is also an ordered data unit that can only be measured and ordered with equidistant items. Unlike interval data, these values can never be negative. For example, age, height, or weight of a person. Age, height, or weight can be measured but can never be a negative value.\n"
   ]
  },
  {
   "cell_type": "markdown",
   "id": "9c2d259d",
   "metadata": {},
   "source": [
    "Q5. Explain the concept of levels of measurement and give an example of a variable for each level."
   ]
  },
  {
   "cell_type": "markdown",
   "id": "3606ce47",
   "metadata": {},
   "source": [
    "Ans:- Levels of measurement, also called scales of measurement, tell you how precisely variables are recorded. In scientific research, a variable is anything that can take on different values across your data set (e.g., height or test scores).\n",
    "\n",
    "There are 4 levels of measurement:\n",
    "\n",
    "1. Nominal: the data can only be categorized\n",
    "Examples,\n",
    "City of birth,\n",
    "Gender,\n",
    "Ethnicity,\n",
    "Car brands,\n",
    "Marital status\n",
    "2. Ordinal: the data can be categorized and ranked\n",
    "Examples,\n",
    "Top 5 Olympic medallists,\n",
    "Language ability (e.g., beginner, intermediate, fluent),\n",
    "Likert-type questions  (e.g., very dissatisfied to very satisfied),\n",
    "\n",
    "3. Interval: the data can be categorized, ranked, and evenly spaced\n",
    "Examples,\n",
    "Test scores (e.g., IQ or exams),\n",
    "Personality inventories,\n",
    "Temperature in Fahrenheit or Celsius\n",
    "4. Ratio: the data can be categorized, ranked, evenly spaced, and has a natural zero.\n",
    "Examples,\n",
    "Height,\n",
    "Age,\n",
    "Weight,\n",
    "Temperature in Kelvin\n"
   ]
  },
  {
   "cell_type": "markdown",
   "id": "85008af0",
   "metadata": {},
   "source": [
    "Q6. Why is it important to understand the level of measurement when analyzing data? Provide an\n",
    "example to illustrate your answer.\n",
    "\n",
    "Ans:- The level at which you measure a variable determines how you can analyze your data.\n",
    "\n",
    "The different levels limit which descriptive statistics you can use to get an overall summary of your data, and which type of inferential statistics you can perform on your data to support or refute your hypothesis.\n",
    "\n",
    "In many cases, your variables can be measured at different levels, so you have to choose the level of measurement you will use before data collection begins."
   ]
  },
  {
   "cell_type": "markdown",
   "id": "e7a1dedf",
   "metadata": {},
   "source": [
    "Q7. How nominal data type is different from ordinal data type."
   ]
  },
  {
   "cell_type": "markdown",
   "id": "2bf5f96d",
   "metadata": {},
   "source": [
    "Ans:\n",
    "1. Nominal data is classified without a natural order or rank, whereas ordinal data has a predetermined or natural order.What is the difference between ordinal and nominal?\n",
    "2. Nominal scale is a naming scale, where variables are simply “named” or labeled, with no specific order. Ordinal scale has all its variables in a specific order, beyond just naming them\n"
   ]
  },
  {
   "cell_type": "markdown",
   "id": "05e447fa",
   "metadata": {},
   "source": [
    "Q8. Which type of plot can be used to display data in terms of range?"
   ]
  },
  {
   "cell_type": "markdown",
   "id": "9df90afa",
   "metadata": {},
   "source": [
    "Ans:-  histogram plot use for plot data in term of range"
   ]
  },
  {
   "cell_type": "markdown",
   "id": "95faef15",
   "metadata": {},
   "source": [
    "Q9. Describe the difference between descriptive and inferential statistics. Give an example of each\n",
    "type of statistics and explain how they are used."
   ]
  },
  {
   "cell_type": "markdown",
   "id": "29bcdced",
   "metadata": {},
   "source": [
    "Ans:- Descriptive statistics is used to describe data and inferential statistics is used to make predictions.\n",
    "Example of Descriptive,\n",
    "\n",
    "The idea of a GPA is that it takes data points from a wide range of exams, classes, and grades, and averages them together to provide a general understanding of a student's overall academic performance. A student's personal GPA reflects their mean academic performance.\n",
    "\n",
    "Example of Inferential,\n",
    "\n",
    "it is impractical to measure the height of every adult woman, but you can measure the heights of a random sample and use that information to make generalizations about the heights of all women. For example, a confidence interval provides a range that the population mean height is likely to fall in.\n"
   ]
  },
  {
   "cell_type": "markdown",
   "id": "4c943e3e",
   "metadata": {},
   "source": [
    "Q10. What are some common measures of central tendency and variability used in statistics? Explain\n",
    "how each measure can be used to describe a dataset."
   ]
  },
  {
   "cell_type": "markdown",
   "id": "434ee400",
   "metadata": {},
   "source": [
    "some common measures of central tendency used in statistics:-\n",
    "\n",
    "\n",
    "1.Mean: The sum of all measurements divided by the number of observations.Can be used with discrete and continuous data. It is value that is most common\n",
    "2.Median: The middle value that separates the higher half from the lower half. Mean and median can be compared with each other to determine if the population is of normal distribution or not. Numbers are arranged in either ascending or descending order. The middle number is than taken.\n",
    "3.Mode: The most frequent value. It shows most popular option and is the highest bar in histogram.Example of use: to determine the most common blood group.\n",
    "\n",
    "some common measures of variability used in statistics:-\n",
    "\n",
    "1.Variance: A measure of how far a set of numbers are spread out from each other. It describes how far the numbers lie from the mean (expected value). It is the square of standard deviation.\n",
    "2.Standard deviation (SD): it is only used for data that are “normally distributed”. SD indicates how much a set of values is spread around the average.SD is determined by the variance (SD=the root of the variance).\n",
    "\n"
   ]
  },
  {
   "cell_type": "code",
   "execution_count": null,
   "id": "e1c77ddd",
   "metadata": {},
   "outputs": [],
   "source": []
  }
 ],
 "metadata": {
  "kernelspec": {
   "display_name": "Python 3 (ipykernel)",
   "language": "python",
   "name": "python3"
  },
  "language_info": {
   "codemirror_mode": {
    "name": "ipython",
    "version": 3
   },
   "file_extension": ".py",
   "mimetype": "text/x-python",
   "name": "python",
   "nbconvert_exporter": "python",
   "pygments_lexer": "ipython3",
   "version": "3.8.16"
  }
 },
 "nbformat": 4,
 "nbformat_minor": 5
}
