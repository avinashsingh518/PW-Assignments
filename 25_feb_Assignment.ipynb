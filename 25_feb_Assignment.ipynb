{
 "cells": [
  {
   "cell_type": "code",
   "execution_count": 1,
   "id": "437f3578",
   "metadata": {},
   "outputs": [],
   "source": [
    "import pandas as pd\n",
    "course_name = ['Data Science', 'Machine Learning', 'Big Data', 'Data Engineer']\n",
    "duration = [2,3,6,4]\n",
    "df = pd.DataFrame(data = {'course_name' : course_name, 'duration' : duration})\n"
   ]
  },
  {
   "cell_type": "markdown",
   "id": "35b77197",
   "metadata": {},
   "source": [
    "Q1. Write a code to print the data present in the second row of the dataframe, df."
   ]
  },
  {
   "cell_type": "code",
   "execution_count": 2,
   "id": "b3d889ca",
   "metadata": {},
   "outputs": [
    {
     "data": {
      "text/plain": [
       "course_name    Machine Learning\n",
       "duration                      3\n",
       "Name: 1, dtype: object"
      ]
     },
     "execution_count": 2,
     "metadata": {},
     "output_type": "execute_result"
    }
   ],
   "source": [
    "df.iloc[1]"
   ]
  },
  {
   "cell_type": "markdown",
   "id": "ae7f6936",
   "metadata": {},
   "source": [
    "Q2. What is the difference between the functions loc and iloc in pandas.DataFrame?"
   ]
  },
  {
   "cell_type": "markdown",
   "id": "129833cd",
   "metadata": {},
   "source": [
    "Ans :- \n",
    "The main distinction between the two methods is:\n",
    "\n",
    "1. loc gets rows (and/or columns) with particular labels.\n",
    "\n",
    "2. iloc gets rows (and/or columns) at integer locations."
   ]
  },
  {
   "cell_type": "markdown",
   "id": "7313c04d",
   "metadata": {},
   "source": [
    "Q3. Reindex the given dataframe using a variable, reindex = [3,0,1,2] and store it in the variable, new_df\n",
    "then find the output for both new_df.loc[2] and new_df.iloc[2]. Did you observe any difference in both the outputs? If so then explain it."
   ]
  },
  {
   "cell_type": "code",
   "execution_count": 3,
   "id": "6d3255f6",
   "metadata": {},
   "outputs": [
    {
     "data": {
      "text/html": [
       "<div>\n",
       "<style scoped>\n",
       "    .dataframe tbody tr th:only-of-type {\n",
       "        vertical-align: middle;\n",
       "    }\n",
       "\n",
       "    .dataframe tbody tr th {\n",
       "        vertical-align: top;\n",
       "    }\n",
       "\n",
       "    .dataframe thead th {\n",
       "        text-align: right;\n",
       "    }\n",
       "</style>\n",
       "<table border=\"1\" class=\"dataframe\">\n",
       "  <thead>\n",
       "    <tr style=\"text-align: right;\">\n",
       "      <th></th>\n",
       "      <th>course_name</th>\n",
       "      <th>duration</th>\n",
       "    </tr>\n",
       "  </thead>\n",
       "  <tbody>\n",
       "    <tr>\n",
       "      <th>3</th>\n",
       "      <td>Data Science</td>\n",
       "      <td>2</td>\n",
       "    </tr>\n",
       "    <tr>\n",
       "      <th>0</th>\n",
       "      <td>Machine Learning</td>\n",
       "      <td>3</td>\n",
       "    </tr>\n",
       "    <tr>\n",
       "      <th>1</th>\n",
       "      <td>Big Data</td>\n",
       "      <td>6</td>\n",
       "    </tr>\n",
       "    <tr>\n",
       "      <th>2</th>\n",
       "      <td>Data Engineer</td>\n",
       "      <td>4</td>\n",
       "    </tr>\n",
       "  </tbody>\n",
       "</table>\n",
       "</div>"
      ],
      "text/plain": [
       "        course_name  duration\n",
       "3      Data Science         2\n",
       "0  Machine Learning         3\n",
       "1          Big Data         6\n",
       "2     Data Engineer         4"
      ]
     },
     "execution_count": 3,
     "metadata": {},
     "output_type": "execute_result"
    }
   ],
   "source": [
    "df.index = [3,0,1,2]\n",
    "new_df = df\n",
    "new_df"
   ]
  },
  {
   "cell_type": "code",
   "execution_count": 4,
   "id": "177b2d0b",
   "metadata": {},
   "outputs": [
    {
     "data": {
      "text/plain": [
       "course_name    Big Data\n",
       "duration              6\n",
       "Name: 1, dtype: object"
      ]
     },
     "execution_count": 4,
     "metadata": {},
     "output_type": "execute_result"
    }
   ],
   "source": [
    "new_df.iloc[2]"
   ]
  },
  {
   "cell_type": "code",
   "execution_count": 5,
   "id": "cca5fa86",
   "metadata": {},
   "outputs": [
    {
     "data": {
      "text/plain": [
       "course_name    Data Engineer\n",
       "duration                   4\n",
       "Name: 2, dtype: object"
      ]
     },
     "execution_count": 5,
     "metadata": {},
     "output_type": "execute_result"
    }
   ],
   "source": [
    "new_df.loc[2]"
   ]
  },
  {
   "cell_type": "markdown",
   "id": "c0c99863",
   "metadata": {},
   "source": [
    "observation :- \n",
    "  1. loc[] :-  It fetch data according to asigned index number of dataframe.\n",
    "  2. iloc[] :- its fetch data according to auto created  ith index of dataframe by pandas "
   ]
  },
  {
   "cell_type": "code",
   "execution_count": 6,
   "id": "9362e5ec",
   "metadata": {},
   "outputs": [],
   "source": [
    "#Consider the below code to answer further questions:\n",
    "import pandas as pd\n",
    "import numpy as np\n",
    "columns = ['column_1', 'column_2', 'column_3', 'column_4', 'column_5', 'column_6']\n",
    "indices = [1,2,3,4,5,6]\n",
    "#Creating a dataframe:\n",
    "df1 = pd.DataFrame(np.random.rand(6,6), columns = columns, index = indices)"
   ]
  },
  {
   "cell_type": "code",
   "execution_count": 7,
   "id": "3f532848",
   "metadata": {},
   "outputs": [
    {
     "data": {
      "text/html": [
       "<div>\n",
       "<style scoped>\n",
       "    .dataframe tbody tr th:only-of-type {\n",
       "        vertical-align: middle;\n",
       "    }\n",
       "\n",
       "    .dataframe tbody tr th {\n",
       "        vertical-align: top;\n",
       "    }\n",
       "\n",
       "    .dataframe thead th {\n",
       "        text-align: right;\n",
       "    }\n",
       "</style>\n",
       "<table border=\"1\" class=\"dataframe\">\n",
       "  <thead>\n",
       "    <tr style=\"text-align: right;\">\n",
       "      <th></th>\n",
       "      <th>column_1</th>\n",
       "      <th>column_2</th>\n",
       "      <th>column_3</th>\n",
       "      <th>column_4</th>\n",
       "      <th>column_5</th>\n",
       "      <th>column_6</th>\n",
       "    </tr>\n",
       "  </thead>\n",
       "  <tbody>\n",
       "    <tr>\n",
       "      <th>1</th>\n",
       "      <td>0.032269</td>\n",
       "      <td>0.738984</td>\n",
       "      <td>0.162155</td>\n",
       "      <td>0.485339</td>\n",
       "      <td>0.738714</td>\n",
       "      <td>0.345170</td>\n",
       "    </tr>\n",
       "    <tr>\n",
       "      <th>2</th>\n",
       "      <td>0.058236</td>\n",
       "      <td>0.941609</td>\n",
       "      <td>0.985332</td>\n",
       "      <td>0.145409</td>\n",
       "      <td>0.639319</td>\n",
       "      <td>0.331699</td>\n",
       "    </tr>\n",
       "    <tr>\n",
       "      <th>3</th>\n",
       "      <td>0.136451</td>\n",
       "      <td>0.054205</td>\n",
       "      <td>0.384901</td>\n",
       "      <td>0.832917</td>\n",
       "      <td>0.122182</td>\n",
       "      <td>0.870016</td>\n",
       "    </tr>\n",
       "    <tr>\n",
       "      <th>4</th>\n",
       "      <td>0.667682</td>\n",
       "      <td>0.706191</td>\n",
       "      <td>0.343017</td>\n",
       "      <td>0.337984</td>\n",
       "      <td>0.030830</td>\n",
       "      <td>0.020153</td>\n",
       "    </tr>\n",
       "    <tr>\n",
       "      <th>5</th>\n",
       "      <td>0.072324</td>\n",
       "      <td>0.005546</td>\n",
       "      <td>0.614402</td>\n",
       "      <td>0.447119</td>\n",
       "      <td>0.035797</td>\n",
       "      <td>0.638523</td>\n",
       "    </tr>\n",
       "    <tr>\n",
       "      <th>6</th>\n",
       "      <td>0.859168</td>\n",
       "      <td>0.492347</td>\n",
       "      <td>0.948876</td>\n",
       "      <td>0.775438</td>\n",
       "      <td>0.901271</td>\n",
       "      <td>0.510549</td>\n",
       "    </tr>\n",
       "  </tbody>\n",
       "</table>\n",
       "</div>"
      ],
      "text/plain": [
       "   column_1  column_2  column_3  column_4  column_5  column_6\n",
       "1  0.032269  0.738984  0.162155  0.485339  0.738714  0.345170\n",
       "2  0.058236  0.941609  0.985332  0.145409  0.639319  0.331699\n",
       "3  0.136451  0.054205  0.384901  0.832917  0.122182  0.870016\n",
       "4  0.667682  0.706191  0.343017  0.337984  0.030830  0.020153\n",
       "5  0.072324  0.005546  0.614402  0.447119  0.035797  0.638523\n",
       "6  0.859168  0.492347  0.948876  0.775438  0.901271  0.510549"
      ]
     },
     "execution_count": 7,
     "metadata": {},
     "output_type": "execute_result"
    }
   ],
   "source": [
    "df1"
   ]
  },
  {
   "cell_type": "markdown",
   "id": "02b8e095",
   "metadata": {},
   "source": [
    "Q4. Write a code to find the following statistical measurements for the above dataframe df1:\n",
    "(i) mean of each and every column present in the dataframe.\n"
   ]
  },
  {
   "cell_type": "code",
   "execution_count": 8,
   "id": "3e089111",
   "metadata": {},
   "outputs": [
    {
     "data": {
      "text/plain": [
       "column_1    0.304355\n",
       "column_2    0.489813\n",
       "column_3    0.573114\n",
       "column_4    0.504034\n",
       "column_5    0.411352\n",
       "column_6    0.452685\n",
       "Name: mean, dtype: float64"
      ]
     },
     "execution_count": 8,
     "metadata": {},
     "output_type": "execute_result"
    }
   ],
   "source": [
    "df1.describe().iloc[1]"
   ]
  },
  {
   "cell_type": "markdown",
   "id": "03f7218e",
   "metadata": {},
   "source": [
    "(ii) standard deviation of column, ‘column_2’"
   ]
  },
  {
   "cell_type": "code",
   "execution_count": 9,
   "id": "759e6226",
   "metadata": {},
   "outputs": [
    {
     "data": {
      "text/plain": [
       "0.3840054665102536"
      ]
     },
     "execution_count": 9,
     "metadata": {},
     "output_type": "execute_result"
    }
   ],
   "source": [
    "df1.describe().iloc[2,1]"
   ]
  },
  {
   "cell_type": "markdown",
   "id": "a9eb3a7b",
   "metadata": {},
   "source": [
    "Q5. Replace the data present in the second row of column, ‘column_2’ by a string variable then find the\n",
    "mean of column, column_2.\n",
    "If you are getting errors in executing it then explain why.\n",
    "[Hint: To replace the data use df1.loc[] and equate this to string data of your choice.]"
   ]
  },
  {
   "cell_type": "code",
   "execution_count": 10,
   "id": "39c8fa59",
   "metadata": {},
   "outputs": [
    {
     "data": {
      "text/html": [
       "<div>\n",
       "<style scoped>\n",
       "    .dataframe tbody tr th:only-of-type {\n",
       "        vertical-align: middle;\n",
       "    }\n",
       "\n",
       "    .dataframe tbody tr th {\n",
       "        vertical-align: top;\n",
       "    }\n",
       "\n",
       "    .dataframe thead th {\n",
       "        text-align: right;\n",
       "    }\n",
       "</style>\n",
       "<table border=\"1\" class=\"dataframe\">\n",
       "  <thead>\n",
       "    <tr style=\"text-align: right;\">\n",
       "      <th></th>\n",
       "      <th>column_1</th>\n",
       "      <th>column_2</th>\n",
       "      <th>column_3</th>\n",
       "      <th>column_4</th>\n",
       "      <th>column_5</th>\n",
       "      <th>column_6</th>\n",
       "    </tr>\n",
       "  </thead>\n",
       "  <tbody>\n",
       "    <tr>\n",
       "      <th>1</th>\n",
       "      <td>0.032269</td>\n",
       "      <td>0.738984</td>\n",
       "      <td>0.162155</td>\n",
       "      <td>0.485339</td>\n",
       "      <td>0.738714</td>\n",
       "      <td>0.345170</td>\n",
       "    </tr>\n",
       "    <tr>\n",
       "      <th>2</th>\n",
       "      <td>0.058236</td>\n",
       "      <td>0.941609</td>\n",
       "      <td>0.985332</td>\n",
       "      <td>0.145409</td>\n",
       "      <td>0.639319</td>\n",
       "      <td>0.331699</td>\n",
       "    </tr>\n",
       "    <tr>\n",
       "      <th>3</th>\n",
       "      <td>0.136451</td>\n",
       "      <td>0.054205</td>\n",
       "      <td>0.384901</td>\n",
       "      <td>0.832917</td>\n",
       "      <td>0.122182</td>\n",
       "      <td>0.870016</td>\n",
       "    </tr>\n",
       "    <tr>\n",
       "      <th>4</th>\n",
       "      <td>0.667682</td>\n",
       "      <td>0.706191</td>\n",
       "      <td>0.343017</td>\n",
       "      <td>0.337984</td>\n",
       "      <td>0.030830</td>\n",
       "      <td>0.020153</td>\n",
       "    </tr>\n",
       "    <tr>\n",
       "      <th>5</th>\n",
       "      <td>0.072324</td>\n",
       "      <td>0.005546</td>\n",
       "      <td>0.614402</td>\n",
       "      <td>0.447119</td>\n",
       "      <td>0.035797</td>\n",
       "      <td>0.638523</td>\n",
       "    </tr>\n",
       "    <tr>\n",
       "      <th>6</th>\n",
       "      <td>0.859168</td>\n",
       "      <td>0.492347</td>\n",
       "      <td>0.948876</td>\n",
       "      <td>0.775438</td>\n",
       "      <td>0.901271</td>\n",
       "      <td>0.510549</td>\n",
       "    </tr>\n",
       "  </tbody>\n",
       "</table>\n",
       "</div>"
      ],
      "text/plain": [
       "   column_1  column_2  column_3  column_4  column_5  column_6\n",
       "1  0.032269  0.738984  0.162155  0.485339  0.738714  0.345170\n",
       "2  0.058236  0.941609  0.985332  0.145409  0.639319  0.331699\n",
       "3  0.136451  0.054205  0.384901  0.832917  0.122182  0.870016\n",
       "4  0.667682  0.706191  0.343017  0.337984  0.030830  0.020153\n",
       "5  0.072324  0.005546  0.614402  0.447119  0.035797  0.638523\n",
       "6  0.859168  0.492347  0.948876  0.775438  0.901271  0.510549"
      ]
     },
     "execution_count": 10,
     "metadata": {},
     "output_type": "execute_result"
    }
   ],
   "source": [
    "df1"
   ]
  },
  {
   "cell_type": "code",
   "execution_count": 11,
   "id": "849c83a5",
   "metadata": {},
   "outputs": [
    {
     "data": {
      "text/html": [
       "<div>\n",
       "<style scoped>\n",
       "    .dataframe tbody tr th:only-of-type {\n",
       "        vertical-align: middle;\n",
       "    }\n",
       "\n",
       "    .dataframe tbody tr th {\n",
       "        vertical-align: top;\n",
       "    }\n",
       "\n",
       "    .dataframe thead th {\n",
       "        text-align: right;\n",
       "    }\n",
       "</style>\n",
       "<table border=\"1\" class=\"dataframe\">\n",
       "  <thead>\n",
       "    <tr style=\"text-align: right;\">\n",
       "      <th></th>\n",
       "      <th>column_1</th>\n",
       "      <th>column_2</th>\n",
       "      <th>column_3</th>\n",
       "      <th>column_4</th>\n",
       "      <th>column_5</th>\n",
       "      <th>column_6</th>\n",
       "    </tr>\n",
       "  </thead>\n",
       "  <tbody>\n",
       "    <tr>\n",
       "      <th>1</th>\n",
       "      <td>0.032269</td>\n",
       "      <td>0.738984</td>\n",
       "      <td>0.162155</td>\n",
       "      <td>0.485339</td>\n",
       "      <td>0.738714</td>\n",
       "      <td>0.345170</td>\n",
       "    </tr>\n",
       "    <tr>\n",
       "      <th>2</th>\n",
       "      <td>0.058236</td>\n",
       "      <td>0.941609</td>\n",
       "      <td>0.985332</td>\n",
       "      <td>0.145409</td>\n",
       "      <td>0.639319</td>\n",
       "      <td>0.331699</td>\n",
       "    </tr>\n",
       "  </tbody>\n",
       "</table>\n",
       "</div>"
      ],
      "text/plain": [
       "   column_1  column_2  column_3  column_4  column_5  column_6\n",
       "1  0.032269  0.738984  0.162155  0.485339  0.738714  0.345170\n",
       "2  0.058236  0.941609  0.985332  0.145409  0.639319  0.331699"
      ]
     },
     "execution_count": 11,
     "metadata": {},
     "output_type": "execute_result"
    }
   ],
   "source": [
    "df1.loc[1:2]"
   ]
  },
  {
   "cell_type": "code",
   "execution_count": 12,
   "id": "a4a2fc05",
   "metadata": {},
   "outputs": [],
   "source": [
    "import pandas as pd\n",
    "import numpy as np\n",
    "columns = ['column_1', 'column_2', 'column_3', 'column_4', 'column_5', 'column_6']\n",
    "indices = [1,2,3,4,5,6]\n",
    "#Creating a dataframe:\n",
    "df1 = pd.DataFrame(np.random.rand(6,6), columns = columns, index = indices)"
   ]
  },
  {
   "cell_type": "code",
   "execution_count": 13,
   "id": "cd19fe3a",
   "metadata": {},
   "outputs": [
    {
     "data": {
      "text/html": [
       "<div>\n",
       "<style scoped>\n",
       "    .dataframe tbody tr th:only-of-type {\n",
       "        vertical-align: middle;\n",
       "    }\n",
       "\n",
       "    .dataframe tbody tr th {\n",
       "        vertical-align: top;\n",
       "    }\n",
       "\n",
       "    .dataframe thead th {\n",
       "        text-align: right;\n",
       "    }\n",
       "</style>\n",
       "<table border=\"1\" class=\"dataframe\">\n",
       "  <thead>\n",
       "    <tr style=\"text-align: right;\">\n",
       "      <th></th>\n",
       "      <th>column_1</th>\n",
       "      <th>column_2</th>\n",
       "      <th>column_3</th>\n",
       "      <th>column_4</th>\n",
       "      <th>column_5</th>\n",
       "      <th>column_6</th>\n",
       "    </tr>\n",
       "  </thead>\n",
       "  <tbody>\n",
       "    <tr>\n",
       "      <th>1</th>\n",
       "      <td>0.969337</td>\n",
       "      <td>0.817347</td>\n",
       "      <td>0.397785</td>\n",
       "      <td>0.198079</td>\n",
       "      <td>0.644546</td>\n",
       "      <td>0.198158</td>\n",
       "    </tr>\n",
       "    <tr>\n",
       "      <th>2</th>\n",
       "      <td>0.435727</td>\n",
       "      <td>S</td>\n",
       "      <td>0.838195</td>\n",
       "      <td>0.660476</td>\n",
       "      <td>0.461442</td>\n",
       "      <td>0.839537</td>\n",
       "    </tr>\n",
       "    <tr>\n",
       "      <th>3</th>\n",
       "      <td>0.918666</td>\n",
       "      <td>0.383415</td>\n",
       "      <td>0.440024</td>\n",
       "      <td>0.741702</td>\n",
       "      <td>0.048665</td>\n",
       "      <td>0.207496</td>\n",
       "    </tr>\n",
       "    <tr>\n",
       "      <th>4</th>\n",
       "      <td>0.214884</td>\n",
       "      <td>0.384259</td>\n",
       "      <td>0.444004</td>\n",
       "      <td>0.780267</td>\n",
       "      <td>0.679341</td>\n",
       "      <td>0.934420</td>\n",
       "    </tr>\n",
       "    <tr>\n",
       "      <th>5</th>\n",
       "      <td>0.905468</td>\n",
       "      <td>0.676788</td>\n",
       "      <td>0.800469</td>\n",
       "      <td>0.709720</td>\n",
       "      <td>0.774704</td>\n",
       "      <td>0.643647</td>\n",
       "    </tr>\n",
       "    <tr>\n",
       "      <th>6</th>\n",
       "      <td>0.297650</td>\n",
       "      <td>0.961793</td>\n",
       "      <td>0.703200</td>\n",
       "      <td>0.792067</td>\n",
       "      <td>0.323959</td>\n",
       "      <td>0.663596</td>\n",
       "    </tr>\n",
       "  </tbody>\n",
       "</table>\n",
       "</div>"
      ],
      "text/plain": [
       "   column_1  column_2  column_3  column_4  column_5  column_6\n",
       "1  0.969337  0.817347  0.397785  0.198079  0.644546  0.198158\n",
       "2  0.435727         S  0.838195  0.660476  0.461442  0.839537\n",
       "3  0.918666  0.383415  0.440024  0.741702  0.048665  0.207496\n",
       "4  0.214884  0.384259  0.444004  0.780267  0.679341  0.934420\n",
       "5  0.905468  0.676788  0.800469  0.709720  0.774704  0.643647\n",
       "6  0.297650  0.961793  0.703200  0.792067  0.323959  0.663596"
      ]
     },
     "execution_count": 13,
     "metadata": {},
     "output_type": "execute_result"
    }
   ],
   "source": [
    "df1.loc[2,'column_2']='S'\n",
    "df1\n"
   ]
  },
  {
   "cell_type": "code",
   "execution_count": 14,
   "id": "bb11e926",
   "metadata": {},
   "outputs": [],
   "source": [
    "# df1[\"column_2\"].mean()"
   ]
  },
  {
   "cell_type": "markdown",
   "id": "8fe27543",
   "metadata": {},
   "source": [
    "Explanation of Error comes :-\n",
    "(TypeError: unsupported operand type(s) for +: 'float' and 'str') there is typeError occurs this means is There is a value within column_ that is a String type which cannot be sum of all values which is float type of column_2 and to find the mean of that column."
   ]
  },
  {
   "cell_type": "markdown",
   "id": "1d12b6d9",
   "metadata": {},
   "source": [
    "Q6. What do you understand about the windows function in pandas and list the types of windows\n",
    "functions?"
   ]
  },
  {
   "cell_type": "markdown",
   "id": "825132e9",
   "metadata": {},
   "source": [
    "Ans :-  windows functions help us to perform aggregated calculations across various partitions or cross-sections of the data.\n",
    "    windows function in Pandas, returns a value for every row of the original table.\n",
    "    \n",
    "    Windows function in Pandas can be broadly divided into three categories namely-\n",
    "\n",
    "\n",
    "(a) Rolling window: Generic fixed or variable sliding window over the values.\n",
    "\n",
    "(b) Weighted window: Weighted, non-rectangular window supplied by the scipy.signal library.\n",
    "\n",
    "(c) Expanding window: Accumulating window over the values.\n",
    "\n",
    "(d) Exponentially Weighted window: Accumulating and exponentially weighted window over the values."
   ]
  },
  {
   "cell_type": "markdown",
   "id": "f89d894f",
   "metadata": {},
   "source": [
    "Q7. Write a code to print only the current month and year at the time of answering this question.\n",
    "[Hint: Use pandas.datetime function]"
   ]
  },
  {
   "cell_type": "code",
   "execution_count": null,
   "id": "8125960b",
   "metadata": {},
   "outputs": [],
   "source": []
  },
  {
   "cell_type": "markdown",
   "id": "8a3c7a4f",
   "metadata": {},
   "source": [
    "Q8. Write a Python program that takes in two dates as input (in the format YYYY-MM-DD) and\n",
    "calculates the difference between them in days, hours, and minutes using Pandas time delta. The\n",
    "program should prompt the user to enter the dates and display the result."
   ]
  },
  {
   "cell_type": "code",
   "execution_count": 17,
   "id": "711baaea",
   "metadata": {},
   "outputs": [
    {
     "name": "stdout",
     "output_type": "stream",
     "text": [
      "Enter first date in YYYY-MM-DD format2022-05-05\n",
      "Enter second date in YYYY-MM-DD format2022-04-04\n"
     ]
    },
    {
     "data": {
      "text/html": [
       "<div>\n",
       "<style scoped>\n",
       "    .dataframe tbody tr th:only-of-type {\n",
       "        vertical-align: middle;\n",
       "    }\n",
       "\n",
       "    .dataframe tbody tr th {\n",
       "        vertical-align: top;\n",
       "    }\n",
       "\n",
       "    .dataframe thead th {\n",
       "        text-align: right;\n",
       "    }\n",
       "</style>\n",
       "<table border=\"1\" class=\"dataframe\">\n",
       "  <thead>\n",
       "    <tr style=\"text-align: right;\">\n",
       "      <th></th>\n",
       "      <th>from_date</th>\n",
       "      <th>to_date</th>\n",
       "      <th>time_delta</th>\n",
       "    </tr>\n",
       "  </thead>\n",
       "  <tbody>\n",
       "    <tr>\n",
       "      <th>0</th>\n",
       "      <td>2022-05-05</td>\n",
       "      <td>2022-04-04</td>\n",
       "      <td>31 days</td>\n",
       "    </tr>\n",
       "  </tbody>\n",
       "</table>\n",
       "</div>"
      ],
      "text/plain": [
       "   from_date    to_date time_delta\n",
       "0 2022-05-05 2022-04-04    31 days"
      ]
     },
     "execution_count": 17,
     "metadata": {},
     "output_type": "execute_result"
    }
   ],
   "source": [
    "import datetime\n",
    "date_entryone = input('Enter first date in YYYY-MM-DD format')\n",
    "date_entrytwo = input('Enter second date in YYYY-MM-DD format')\n",
    "\n",
    "df2 = pd.DataFrame(data = {\n",
    "    'from_date':[pd.Timestamp(date_entryone)],\n",
    "    'to_date':[pd.Timestamp(date_entrytwo)]\n",
    "})\n",
    "df2['time_delta'] = (df2.from_date - df2.to_date)\n",
    "#df2['tot_month_diff'] = (df.from_date - df.to_date)\n",
    "df2\n"
   ]
  },
  {
   "cell_type": "code",
   "execution_count": null,
   "id": "bf438f00",
   "metadata": {},
   "outputs": [],
   "source": [
    "# time_str = input(\"enter time in this format yyyy-mm-dd\")\n",
    "# time=datetime.datetime.strptime(time_str, \"%Y-%m-%d\") \n",
    "# time"
   ]
  },
  {
   "cell_type": "code",
   "execution_count": null,
   "id": "23c0f72a",
   "metadata": {},
   "outputs": [],
   "source": [
    "x=pd.Timedelta(1985, unit='Y').days\n",
    "x"
   ]
  },
  {
   "cell_type": "code",
   "execution_count": null,
   "id": "81421d52",
   "metadata": {},
   "outputs": [],
   "source": []
  },
  {
   "cell_type": "code",
   "execution_count": null,
   "id": "d2f20e83",
   "metadata": {},
   "outputs": [],
   "source": []
  }
 ],
 "metadata": {
  "kernelspec": {
   "display_name": "Python 3 (ipykernel)",
   "language": "python",
   "name": "python3"
  },
  "language_info": {
   "codemirror_mode": {
    "name": "ipython",
    "version": 3
   },
   "file_extension": ".py",
   "mimetype": "text/x-python",
   "name": "python",
   "nbconvert_exporter": "python",
   "pygments_lexer": "ipython3",
   "version": "3.8.16"
  }
 },
 "nbformat": 4,
 "nbformat_minor": 5
}
