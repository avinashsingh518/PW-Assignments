{
 "cells": [
  {
   "cell_type": "markdown",
   "id": "7529c6d1",
   "metadata": {},
   "source": [
    "### Q1. Explain Class and Object with respect to Object-Oriented Programming. Give a suitable example."
   ]
  },
  {
   "cell_type": "markdown",
   "id": "d3c893e6",
   "metadata": {},
   "source": [
    "#### Class \n",
    "Class is used as a template for declaring and creating the objects.\n",
    "#### Object\n",
    "An object is an instance of a class. Many instances can be created from a class.\n",
    "#### Example\n",
    "Class :- Human\n",
    "Object :- Male,Female,Female With long hair,Male with prowess"
   ]
  },
  {
   "cell_type": "markdown",
   "id": "2015656b",
   "metadata": {},
   "source": [
    "### Q2. Name the four pillars of OOPs."
   ]
  },
  {
   "cell_type": "markdown",
   "id": "45088ebd",
   "metadata": {},
   "source": [
    "1.Encapsulation\n",
    "2.Inheritance \n",
    "3.Abstraction \n",
    "4.Polymorphism "
   ]
  },
  {
   "cell_type": "markdown",
   "id": "45915771",
   "metadata": {},
   "source": [
    "### Q3. Explain why the  __init__()  function is used. Give a suitable example."
   ]
  },
  {
   "cell_type": "markdown",
   "id": "ca9f1af2",
   "metadata": {},
   "source": [
    "The __init__() function is called automatically every time the class is being used to create a new object.\n",
    "Use the __init__() function to assign values to object properties, or other operations that are necessary to do when the object is being created:"
   ]
  },
  {
   "cell_type": "code",
   "execution_count": 12,
   "id": "f2dcafe1",
   "metadata": {},
   "outputs": [
    {
     "name": "stdout",
     "output_type": "stream",
     "text": [
      "pwskill\n",
      "10\n"
     ]
    }
   ],
   "source": [
    "# Example\n",
    "class Person:\n",
    "  def __init__(self, course, price):\n",
    "    self.subject = course       # assign name to class\n",
    "    self.amount = price         # assign age to class\n",
    "\n",
    "# p = Person() \n",
    "# can't create without passing parameters\n",
    "\n",
    "p = Person(\"pwskill\", 10)\n",
    "\n",
    "# we can set course and price to object on creation\n",
    "print(p.subject) \n",
    "print(p.amount)"
   ]
  },
  {
   "cell_type": "markdown",
   "id": "c8c4cdb8",
   "metadata": {},
   "source": [
    "### Q4. Why self is used in OOPs?\n"
   ]
  },
  {
   "cell_type": "markdown",
   "id": "a4cab2b6",
   "metadata": {},
   "source": [
    "self represents the instance of the class. By using the 'self'  we can access the attributes and methods of the class in python. It binds the attributes with the given arguments.\n",
    "\n"
   ]
  },
  {
   "cell_type": "markdown",
   "id": "09d8a646",
   "metadata": {},
   "source": [
    "### Q5. What is inheritance? Give an example for each type of inheritance."
   ]
  },
  {
   "cell_type": "markdown",
   "id": "0637c217",
   "metadata": {},
   "source": [
    "The mechanism of inheriting the properties of the base class to the child class.\n"
   ]
  },
  {
   "cell_type": "markdown",
   "id": "e403e6c4",
   "metadata": {},
   "source": [
    "#### Single Inheritance: "
   ]
  },
  {
   "cell_type": "code",
   "execution_count": 13,
   "id": "3c3cb537",
   "metadata": {},
   "outputs": [
    {
     "name": "stdout",
     "output_type": "stream",
     "text": [
      "This function is in parent class.\n",
      "This function is in child class.\n"
     ]
    }
   ],
   "source": [
    "# parent class\n",
    "class Parent:\n",
    "    def func1(self):\n",
    "        print(\"This function is in parent class.\")\n",
    "\n",
    "        \n",
    "# child class inherit from parent class\n",
    "class Child(Parent):\n",
    "    def func2(self):\n",
    "        print(\"This function is in child class.\")\n",
    " \n",
    "object = Child()\n",
    "object.func1()    # can call parent method func1\n",
    "object.func2()    # call own method"
   ]
  },
  {
   "cell_type": "markdown",
   "id": "a70a1113",
   "metadata": {},
   "source": [
    "#### Multiple Inheritance: \n"
   ]
  },
  {
   "cell_type": "code",
   "execution_count": 15,
   "id": "89314dc4",
   "metadata": {},
   "outputs": [
    {
     "name": "stdout",
     "output_type": "stream",
     "text": [
      "This function is in parent1 class.\n",
      "This function is in parent2 class.\n",
      "This function is in child class, inherit from parent1 & parent2\n"
     ]
    }
   ],
   "source": [
    "class Parent1:\n",
    "    def func1(self):\n",
    "        print(\"This function is in parent1 class.\")\n",
    "        \n",
    "class Parent2:\n",
    "    def func2(self):\n",
    "        print(\"This function is in parent2 class.\")\n",
    "\n",
    "        \n",
    "# child class inherit from parent class\n",
    "class Child(Parent1,Parent2):\n",
    "    def func3(self):\n",
    "        print(\"This function is in child class, inherit from parent1 & parent2\")\n",
    " \n",
    "object = Child()\n",
    "object.func1()    # can call Parent1 method func1\n",
    "object.func2()    # can call Parent2 method func2\n",
    "object.func3()    # call own method"
   ]
  },
  {
   "cell_type": "markdown",
   "id": "577395ff",
   "metadata": {},
   "source": [
    "#### Multilevel Inheritance :"
   ]
  },
  {
   "cell_type": "code",
   "execution_count": 17,
   "id": "e2fd1634",
   "metadata": {},
   "outputs": [
    {
     "name": "stdout",
     "output_type": "stream",
     "text": [
      "This function is in parent1 class.\n",
      "This function is in parent2 class, inherit from parent1\n",
      "This function is in child class, inherit from parent2 which inherit from parent1 class\n"
     ]
    }
   ],
   "source": [
    "class Parent1:\n",
    "    def func1(self):\n",
    "        print(\"This function is in parent1 class.\")\n",
    "        \n",
    "class Parent2(Parent1):\n",
    "    def func2(self):\n",
    "        print(\"This function is in parent2 class, inherit from parent1\")\n",
    "\n",
    "        \n",
    "# child class inherit from parent class\n",
    "class Child(Parent2):\n",
    "    def func3(self):\n",
    "        print(\"This function is in child class, inherit from parent2 which inherit from parent1 class\")\n",
    " \n",
    "object = Child()\n",
    "object.func1()    # can call Parent1 method func1\n",
    "object.func2()    # can call Parent2 method func2\n",
    "object.func3()    # call own method"
   ]
  },
  {
   "cell_type": "markdown",
   "id": "90dd4d64",
   "metadata": {},
   "source": [
    "#### Hierarchical Inheritance: "
   ]
  },
  {
   "cell_type": "code",
   "execution_count": 19,
   "id": "3a4e413c",
   "metadata": {},
   "outputs": [
    {
     "name": "stdout",
     "output_type": "stream",
     "text": [
      "This function is in parent class.\n",
      "This function is in child 1.\n",
      "This function is in parent class.\n",
      "This function is in child 2.\n"
     ]
    }
   ],
   "source": [
    "class Parent:\n",
    "    def func1(self):\n",
    "        print(\"This function is in parent class.\")\n",
    " \n",
    " \n",
    "class Child1(Parent):\n",
    "    def func2(self):\n",
    "        print(\"This function is in child 1, inherit from parent class\")\n",
    "\n",
    " \n",
    "class Child2(Parent):\n",
    "    def func3(self):\n",
    "        print(\"This function is in child 2, inherit from parent class\")\n",
    "        \n",
    "c1 = Child1()\n",
    "c2 = Child2()\n",
    "c1.func1()    # can call parent class method func1()\n",
    "c1.func2()    # call own class method func2()\n",
    "c2.func1()    # can call parent class method func1()\n",
    "c2.func3()    # call own class method func3()"
   ]
  },
  {
   "cell_type": "code",
   "execution_count": null,
   "id": "4fbed723",
   "metadata": {},
   "outputs": [],
   "source": []
  }
 ],
 "metadata": {
  "kernelspec": {
   "display_name": "Python 3 (ipykernel)",
   "language": "python",
   "name": "python3"
  },
  "language_info": {
   "codemirror_mode": {
    "name": "ipython",
    "version": 3
   },
   "file_extension": ".py",
   "mimetype": "text/x-python",
   "name": "python",
   "nbconvert_exporter": "python",
   "pygments_lexer": "ipython3",
   "version": "3.11.1"
  }
 },
 "nbformat": 4,
 "nbformat_minor": 5
}
