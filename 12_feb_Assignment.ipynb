{
 "cells": [
  {
   "cell_type": "markdown",
   "id": "573f88a1",
   "metadata": {},
   "source": [
    "Q1. What is an Exception in pthon? Write the difference between Exceptions and syntex errors"
   ]
  },
  {
   "cell_type": "markdown",
   "id": "a80268d1",
   "metadata": {},
   "source": [
    "Ans:- An exception is an unexpected event that occurs during program execution\n",
    "\n",
    "Difference between Exceptions and syntex errors,\n",
    "\n",
    "1. Exception occur when programmer do a logical mistake in the code.\n",
    "2. Syntax Error occur when you forgot to write ‘;’ (semicolon) at the end of line or ‘{}’ (curly braces) or spelling mistake or accessing a variable which is not exist in your code\n"
   ]
  },
  {
   "cell_type": "markdown",
   "id": "89fb5edb",
   "metadata": {},
   "source": [
    "Q2. What happens when an exception is not handled? Explain within example."
   ]
  },
  {
   "cell_type": "markdown",
   "id": "cc918196",
   "metadata": {},
   "source": [
    "Ans:- When Exception is not handled then the runtime system will abort the program (i.e. crash) and an exception message will print to the console. or If the exception is not handled by an except clause, the exception is re-raised after the finally clause has been executed.\n",
    "\n",
    "Examples: \n",
    "1. Try and except condition - \n",
    "a = [1, 2, 3]\n",
    "try:\n",
    "    print (\"Second element = %d\" %(a[1]))\n",
    " \n",
    "\n",
    "    print (\"Fourth element = %d\" %(a[3]))     Throws error since there are only 3 elements in array\n",
    " \n",
    "except:\n",
    "    print (\"An error occurred\")\n",
    "    \n",
    "    \n",
    "2.  Try,except and finally condition -\n",
    "\n",
    "\n",
    "  try:\n",
    "    numerator = 10\n",
    "    denominator = 0\n",
    "\n",
    "    result = numerator/denominator\n",
    "\n",
    "    print(result)\n",
    "except:\n",
    "    print(\"Error: Denominator cannot be 0.\")\n",
    "    \n",
    "finally:\n",
    "    print(\"This is finally block.\")  \n",
    "    \n"
   ]
  },
  {
   "cell_type": "markdown",
   "id": "8569fba0",
   "metadata": {},
   "source": [
    "Q3. Which Python statements  are used to catch and handle exceptions? Explain within example."
   ]
  },
  {
   "cell_type": "markdown",
   "id": "b5285596",
   "metadata": {},
   "source": [
    "Ans:- The try and except block in Python is used to catch and handle exceptions\n",
    "    \n",
    "Examples, \n",
    "try :\n",
    "    #statements in try block\n",
    "except :\n",
    "    #executed when error in try block"
   ]
  },
  {
   "cell_type": "markdown",
   "id": "4b20f728",
   "metadata": {},
   "source": [
    "Q4. Explain with an example:\n",
    "a. try and else\n",
    "b. finally\n",
    "c. raise\n",
    "\n",
    "Ans:- \n",
    "    \n",
    "a. try and else :- try block will test the excepted error to occur and else  If there is no exception then this block will be executed\n",
    "b. Finally :- Finally block always gets executed either exception is generated or not\n",
    "c. raise :- The raise keyword is used to raise an exception."
   ]
  },
  {
   "cell_type": "code",
   "execution_count": null,
   "id": "cb9cc0ba",
   "metadata": {},
   "outputs": [],
   "source": [
    "Q5. What are Custom Exceptions in python? What do we need Custom Exceptions? Explain with an example."
   ]
  },
  {
   "cell_type": "markdown",
   "id": "9850c6dc",
   "metadata": {},
   "source": [
    "Ans:- Exceptions need to be derived from the Exception class, either directly or indirectly. Although not mandatory, most of the exceptions are named as names that end in “Error” similar to the naming of the standard exceptions in python\n",
    "\n",
    "Example;\n",
    "\n",
    "\n",
    "#### A python program to create user-defined exception\n",
    "#### class MyError is derived from super class Exception\n",
    "class MyError(Exception):\n",
    " \n",
    "    # Constructor or Initializer\n",
    "    def __init__(self, value):\n",
    "        self.value = value\n",
    " \n",
    "    # __str__ is to print() the value\n",
    "    def __str__(self):\n",
    "        return(repr(self.value))\n",
    " \n",
    " \n",
    "try:\n",
    "    raise(MyError(3*2))\n",
    " \n",
    "#### Value of Exception is stored in error\n",
    "except MyError as error:\n",
    "    print('A New Exception occurred: ', error.value)"
   ]
  },
  {
   "cell_type": "markdown",
   "id": "30dacc38",
   "metadata": {},
   "source": [
    "Q6. Create custom exception class. Use this class to handle an exception."
   ]
  },
  {
   "cell_type": "code",
   "execution_count": 9,
   "id": "20767f5a",
   "metadata": {},
   "outputs": [
    {
     "name": "stdout",
     "output_type": "stream",
     "text": [
      "For Percenatge: 93\n",
      "Congrats you're Enrolled\n",
      "\n",
      "For Percenatge: 102\n",
      "Percentage is invalid\n",
      "\n",
      "For Percenatge: 58\n",
      "The Percentage is lesser than the Cut-off, Please try again!\n"
     ]
    }
   ],
   "source": [
    "# Base class\n",
    "class PercentageError(Exception):\n",
    "    pass\n",
    "        \n",
    "# Exception class for percentage > 100\n",
    "class InvalidPercentageError(PercentageError):\n",
    "    def __init__(self):\n",
    "        super().__init__(\"Percentage is invalid\")\n",
    "        \n",
    "# Exception class for percentage < 80\n",
    "class LessPercentageError(PercentageError):\n",
    "    def __init__(self):\n",
    "        super().__init__(\"The Percentage is lesser than the Cut-off, Please try again!\")\n",
    "\n",
    "# class to check percentage range\n",
    "class checkPercentage(PercentageError):\n",
    "    def __init__(self, per):\n",
    "        if per<80:\n",
    "            raise LessPercentageError\n",
    "        if per>100:\n",
    "            raise InvalidPercentageError\n",
    "        print(\"Congrats you're Enrolled\")\n",
    "        \n",
    "        \n",
    "        \n",
    "# different cases and output\n",
    "try:\n",
    "    print(\"For Percenatge: 93\")\n",
    "    checkPercentage(93)\n",
    "except Exception as e:\n",
    "    print(e)\n",
    "    \n",
    "try:\n",
    "    print(\"\\nFor Percenatge: 102\")\n",
    "    checkPercentage(102)\n",
    "except Exception as e:\n",
    "    print(e)\n",
    "    \n",
    "try:\n",
    "    print(\"\\nFor Percenatge: 58\")\n",
    "    checkPercentage(58)\n",
    "except Exception as e:\n",
    "    print(e)"
   ]
  },
  {
   "cell_type": "code",
   "execution_count": null,
   "id": "3bf9d4f0",
   "metadata": {},
   "outputs": [],
   "source": []
  }
 ],
 "metadata": {
  "kernelspec": {
   "display_name": "Python 3 (ipykernel)",
   "language": "python",
   "name": "python3"
  },
  "language_info": {
   "codemirror_mode": {
    "name": "ipython",
    "version": 3
   },
   "file_extension": ".py",
   "mimetype": "text/x-python",
   "name": "python",
   "nbconvert_exporter": "python",
   "pygments_lexer": "ipython3",
   "version": "3.8.16"
  }
 },
 "nbformat": 4,
 "nbformat_minor": 5
}
