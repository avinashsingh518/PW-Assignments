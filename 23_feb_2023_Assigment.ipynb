{
 "cells": [
  {
   "cell_type": "markdown",
   "id": "e62c79ed",
   "metadata": {},
   "source": [
    "Q1. Create a Pandas Series that contains the following data: 4, 8, 15, 16, 23, and 42. Then, print the series."
   ]
  },
  {
   "cell_type": "code",
   "execution_count": 5,
   "id": "c305fc31",
   "metadata": {},
   "outputs": [
    {
     "data": {
      "text/plain": [
       "0     4\n",
       "1     8\n",
       "2    15\n",
       "3    16\n",
       "4    23\n",
       "5    42\n",
       "dtype: int64"
      ]
     },
     "execution_count": 5,
     "metadata": {},
     "output_type": "execute_result"
    }
   ],
   "source": [
    "import pandas as pd\n",
    "data=[ 4, 8, 15, 16, 23,42]\n",
    "s = pd.Series(data)\n",
    "s\n"
   ]
  },
  {
   "cell_type": "markdown",
   "id": "312f3da6",
   "metadata": {},
   "source": [
    "Q2. Create a variable of list type containing 10 elements in it, and apply pandas.Series function on the\n",
    "variable print it."
   ]
  },
  {
   "cell_type": "code",
   "execution_count": 11,
   "id": "72427437",
   "metadata": {},
   "outputs": [
    {
     "data": {
      "text/plain": [
       "1       data\n",
       "2    science\n",
       "3       2023\n",
       "4        day\n",
       "5      month\n",
       "6       year\n",
       "7         34\n",
       "8         56\n",
       "9        age\n",
       "dtype: object"
      ]
     },
     "execution_count": 11,
     "metadata": {},
     "output_type": "execute_result"
    }
   ],
   "source": [
    "data=['pwskill','data','science',2023,'day','month','year',34,56,'age']\n",
    "s = pd.Series(data)\n",
    "s[1:]"
   ]
  },
  {
   "cell_type": "markdown",
   "id": "1284b734",
   "metadata": {},
   "source": [
    "Q3. Create a Pandas DataFrame that contains the following data:\n",
    "Name     Age    Gender\n",
    "Alice    25     Female\n",
    "Bob      30     Male\n",
    "Claire   27     Female\n",
    "Then, print the DataFrame."
   ]
  },
  {
   "cell_type": "code",
   "execution_count": 15,
   "id": "844ddf66",
   "metadata": {},
   "outputs": [
    {
     "data": {
      "text/html": [
       "<div>\n",
       "<style scoped>\n",
       "    .dataframe tbody tr th:only-of-type {\n",
       "        vertical-align: middle;\n",
       "    }\n",
       "\n",
       "    .dataframe tbody tr th {\n",
       "        vertical-align: top;\n",
       "    }\n",
       "\n",
       "    .dataframe thead th {\n",
       "        text-align: right;\n",
       "    }\n",
       "</style>\n",
       "<table border=\"1\" class=\"dataframe\">\n",
       "  <thead>\n",
       "    <tr style=\"text-align: right;\">\n",
       "      <th></th>\n",
       "      <th>Name</th>\n",
       "      <th>Age</th>\n",
       "      <th>Gender</th>\n",
       "    </tr>\n",
       "  </thead>\n",
       "  <tbody>\n",
       "    <tr>\n",
       "      <th>0</th>\n",
       "      <td>Alice</td>\n",
       "      <td>25</td>\n",
       "      <td>Female</td>\n",
       "    </tr>\n",
       "    <tr>\n",
       "      <th>1</th>\n",
       "      <td>Bob</td>\n",
       "      <td>30</td>\n",
       "      <td>Male</td>\n",
       "    </tr>\n",
       "    <tr>\n",
       "      <th>2</th>\n",
       "      <td>Claire</td>\n",
       "      <td>27</td>\n",
       "      <td>Female</td>\n",
       "    </tr>\n",
       "  </tbody>\n",
       "</table>\n",
       "</div>"
      ],
      "text/plain": [
       "     Name  Age  Gender\n",
       "0   Alice   25  Female\n",
       "1     Bob   30    Male\n",
       "2  Claire   27  Female"
      ]
     },
     "execution_count": 15,
     "metadata": {},
     "output_type": "execute_result"
    }
   ],
   "source": [
    "data_list = {\n",
    "    'Name':['Alice','Bob','Claire'],\n",
    "    'Age':[25,30,27],\n",
    "    'Gender':['Female','Male','Female'],\n",
    "    }\n",
    "df = pd.DataFrame(data_list)\n",
    "df"
   ]
  },
  {
   "cell_type": "markdown",
   "id": "fd0f3df6",
   "metadata": {},
   "source": [
    "Q4. What is ‘DataFrame’ in pandas and how is it different from pandas.series? Explain with an example."
   ]
  },
  {
   "cell_type": "markdown",
   "id": "4f1293d8",
   "metadata": {},
   "source": [
    "Ans :-  Pandas is an open-source library that is made mainly for working with relational or labeled data both easily \n",
    "    and intuitively. It provides various data structures and operations for manipulating numerical data and time series\n",
    "    difference between pandas and series:-\n",
    "   1. Series can only contain single list with index, whereas dataframe can be made of more than one series\n",
    "   2. Series data is One-dimensional,and pandas data is Two-dimensional\n",
    "   3. Series elements must be of the same data type, and DataFrame elements can have different data types. "
   ]
  },
  {
   "cell_type": "code",
   "execution_count": 18,
   "id": "abf3deb5",
   "metadata": {},
   "outputs": [
    {
     "name": "stdout",
     "output_type": "stream",
     "text": [
      "Mon      22\n",
      "Tues     23\n",
      "Wed      23\n",
      "Thurs    24\n",
      "Fri      23\n",
      "Sat      22\n",
      "Sun      21\n",
      "Name: series_from_dict, dtype: int64\n"
     ]
    },
    {
     "data": {
      "text/html": [
       "<div>\n",
       "<style scoped>\n",
       "    .dataframe tbody tr th:only-of-type {\n",
       "        vertical-align: middle;\n",
       "    }\n",
       "\n",
       "    .dataframe tbody tr th {\n",
       "        vertical-align: top;\n",
       "    }\n",
       "\n",
       "    .dataframe thead th {\n",
       "        text-align: right;\n",
       "    }\n",
       "</style>\n",
       "<table border=\"1\" class=\"dataframe\">\n",
       "  <thead>\n",
       "    <tr style=\"text-align: right;\">\n",
       "      <th></th>\n",
       "      <th>Class 1</th>\n",
       "      <th>Class 2</th>\n",
       "      <th>Class 3</th>\n",
       "    </tr>\n",
       "  </thead>\n",
       "  <tbody>\n",
       "    <tr>\n",
       "      <th>math avg</th>\n",
       "      <td>22</td>\n",
       "      <td>45</td>\n",
       "      <td>32</td>\n",
       "    </tr>\n",
       "    <tr>\n",
       "      <th>science avg</th>\n",
       "      <td>33</td>\n",
       "      <td>28</td>\n",
       "      <td>41</td>\n",
       "    </tr>\n",
       "    <tr>\n",
       "      <th>english avg</th>\n",
       "      <td>38</td>\n",
       "      <td>36</td>\n",
       "      <td>47</td>\n",
       "    </tr>\n",
       "  </tbody>\n",
       "</table>\n",
       "</div>"
      ],
      "text/plain": [
       "             Class 1  Class 2  Class 3\n",
       "math avg          22       45       32\n",
       "science avg       33       28       41\n",
       "english avg       38       36       47"
      ]
     },
     "execution_count": 18,
     "metadata": {},
     "output_type": "execute_result"
    }
   ],
   "source": [
    "#SERIES IN PANDAS\n",
    "data = {'Mon': 22, 'Tues': 23, 'Wed': 23, 'Thurs': 24, 'Fri': 23, 'Sat': 22, 'Sun': 21}\n",
    "series = pd.Series(data=data, name='series_from_dict')\n",
    "print(series)\n",
    "\n",
    "\n",
    "\n",
    "#DATAFRAME IN PANDAS\n",
    "data = pd.DataFrame({\n",
    "    \"Class 1\": pd.Series([22, 33, 38], index=[\"math avg\", \"science avg\",  \"english avg\"]),\n",
    "    \"Class 2\": pd.Series([45, 28, 36], index=[\"math avg\", \"science avg\",  \"english avg\"]),\n",
    "    \"Class 3\": pd.Series([32, 41, 47], index=[\"math avg\", \"science avg\",  \"english avg\"])\n",
    "})\n",
    " \n",
    "data "
   ]
  },
  {
   "cell_type": "markdown",
   "id": "ff4f68e7",
   "metadata": {},
   "source": [
    "Q5. What are some common functions you can use to manipulate data in a Pandas DataFrame? Can\n",
    "you give an example of when you might use one of these functions?"
   ]
  },
  {
   "cell_type": "markdown",
   "id": "604aaead",
   "metadata": {},
   "source": [
    "Ans :-  index()\tMethod returns index (row labels) of the DataFrame\n",
    "insert()\tMethod inserts a column into a DataFrame\n",
    "add()\tMethod returns addition of dataframe and other, element-wise (binary operator add)\n",
    "sub()\tMethod returns subtraction of dataframe and other, element-wise (binary operator sub)\n",
    "mul()\tMethod returns multiplication of dataframe and other, element-wise (binary operator mul)\n",
    "div()\tMethod returns floating division of dataframe and other, element-wise \n",
    "isnull()\tMethod creates a Boolean Series for extracting rows with null values\n",
    "iloc[]\tMethod retrieves rows based on index position\n",
    "rename()\tMethod is called on a DataFrame to change the names of the index labels or column names\n",
    "drop()\tMethod is used to delete rows or columns from a DataFrame\n",
    "dropna()\tMethod allows the user to analyze and drop Rows/Columns with Null values in different ways\n",
    "fillna()\tMethod manages and let the user replace NaN values with some value of their own\n"
   ]
  },
  {
   "cell_type": "code",
   "execution_count": 27,
   "id": "6fa13dd4",
   "metadata": {},
   "outputs": [
    {
     "data": {
      "text/plain": [
       "First Score     95.0\n",
       "Second Score     NaN\n",
       "Third Score     98.0\n",
       "Name: 3, dtype: float64"
      ]
     },
     "execution_count": 27,
     "metadata": {},
     "output_type": "execute_result"
    }
   ],
   "source": [
    "#EXAPMLES :---------\n",
    "import numpy as np\n",
    "dict = {'First Score':[100, 90, np.nan, 95],\n",
    "        'Second Score': [30, 45, 56, np.nan],\n",
    "        'Third Score':[np.nan, 40, 80, 98]}\n",
    " \n",
    "# creating a dataframe from dictionary\n",
    "df = pd.DataFrame(dict)\n",
    " \n",
    "# filling missing value using fillna()  \n",
    "df.fillna(0)\n",
    "# retrieving rows by iloc method \n",
    "row2 = df.iloc[3] \n",
    "row2\n"
   ]
  },
  {
   "cell_type": "markdown",
   "id": "bfb762cf",
   "metadata": {},
   "source": [
    "Q6. Which of the following is mutable in nature Series, DataFrame, Panel?\n",
    "\n",
    "Ans :- \n",
    " 1. Series:-Size Immutable –size cannot be changed and  Values of Data Mutable\n",
    " 2. DataFrame:- Size Mutable and Data Mutable\n",
    " 3. Panel:- Size Mutable and Data Mutable"
   ]
  },
  {
   "cell_type": "markdown",
   "id": "a0553f62",
   "metadata": {},
   "source": [
    "Q7. Create a DataFrame using multiple Series. Explain with an example."
   ]
  },
  {
   "cell_type": "code",
   "execution_count": 29,
   "id": "efe69291",
   "metadata": {},
   "outputs": [
    {
     "name": "stdout",
     "output_type": "stream",
     "text": [
      "     Author  Article\n",
      "0  Jitender      210\n",
      "1   Purnima      211\n",
      "2     Arpit      114\n",
      "3     Jyoti      178\n"
     ]
    }
   ],
   "source": [
    "author = ['Jitender', 'Purnima', 'Arpit', 'Jyoti']\n",
    "article = [210, 211, 114, 178]\n",
    "#Creating two Series by passing lists\n",
    "auth_series = pd.Series(author)\n",
    "article_series = pd.Series(article)\n",
    "#Creating a dictionary by passing Series objects as values\n",
    "frame = { 'Author': auth_series, 'Article': article_series }\n",
    "#Creating DataFrame by passing Dictionary\n",
    "result = pd.DataFrame(frame)\n",
    "#Printing elements of Dataframe\n",
    "print(result)"
   ]
  },
  {
   "cell_type": "code",
   "execution_count": null,
   "id": "74a29ad0",
   "metadata": {},
   "outputs": [],
   "source": []
  }
 ],
 "metadata": {
  "kernelspec": {
   "display_name": "Python 3 (ipykernel)",
   "language": "python",
   "name": "python3"
  },
  "language_info": {
   "codemirror_mode": {
    "name": "ipython",
    "version": 3
   },
   "file_extension": ".py",
   "mimetype": "text/x-python",
   "name": "python",
   "nbconvert_exporter": "python",
   "pygments_lexer": "ipython3",
   "version": "3.8.16"
  }
 },
 "nbformat": 4,
 "nbformat_minor": 5
}
