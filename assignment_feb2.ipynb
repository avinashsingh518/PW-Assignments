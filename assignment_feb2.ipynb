{
 "cells": [
  {
   "cell_type": "markdown",
   "id": "a013caf9",
   "metadata": {},
   "source": [
    "### Q1. Explain with an example each when to use a for loop and a while loop."
   ]
  },
  {
   "cell_type": "markdown",
   "id": "f60b141b",
   "metadata": {},
   "source": [
    "We should use a for loop when we know how many times the loop should run. If we want the loop to break based on a condition other than the number of times it runs, we should use a while loop."
   ]
  },
  {
   "cell_type": "markdown",
   "id": "4fa0f62c",
   "metadata": {},
   "source": [
    "#### Example :"
   ]
  },
  {
   "cell_type": "markdown",
   "id": "89c00a9c",
   "metadata": {},
   "source": [
    "1.print first 5 natural number (for loop :- number of iteration is known)"
   ]
  },
  {
   "cell_type": "code",
   "execution_count": 1,
   "id": "d0f6bc9a",
   "metadata": {},
   "outputs": [
    {
     "name": "stdout",
     "output_type": "stream",
     "text": [
      "1\n",
      "2\n",
      "3\n",
      "4\n",
      "5\n"
     ]
    }
   ],
   "source": [
    "for i in range(1,6):\n",
    "    print(i)"
   ]
  },
  {
   "cell_type": "markdown",
   "id": "d7cf4833",
   "metadata": {},
   "source": [
    "2.print numbers less than 5 (while loop :- break loop based on condition) "
   ]
  },
  {
   "cell_type": "code",
   "execution_count": 2,
   "id": "62498909",
   "metadata": {},
   "outputs": [
    {
     "name": "stdout",
     "output_type": "stream",
     "text": [
      "1\n",
      "2\n",
      "3\n",
      "4\n"
     ]
    }
   ],
   "source": [
    "max = 5\n",
    "n = 1\n",
    "while n < max:\n",
    "    print(n)\n",
    "    n += 1\n",
    "    if(n > max):\n",
    "        break"
   ]
  },
  {
   "cell_type": "markdown",
   "id": "44ef023b",
   "metadata": {},
   "source": [
    "### Q2. Write a python program to print the sum and product of the first 10 natural numbers using for and while loop."
   ]
  },
  {
   "cell_type": "code",
   "execution_count": 3,
   "id": "b2f7f138",
   "metadata": {},
   "outputs": [
    {
     "name": "stdout",
     "output_type": "stream",
     "text": [
      "55\n",
      "3628800\n"
     ]
    }
   ],
   "source": [
    "# first 10 natural numbers in list\n",
    "natural_numbers = [i for i in range(1,11)]\n",
    "\n",
    "# program to print the sum of first 10 natural numbers\n",
    "sum_of_natural_number = 0\n",
    "for i in natural_numbers:\n",
    "    sum_of_natural_number += i\n",
    "print(sum_of_natural_number)\n",
    "\n",
    "# program to print the product of first 10 natural numbers\n",
    "product_of_natural_number = 1\n",
    "for i in natural_numbers:\n",
    "    product_of_natural_number *= i\n",
    "print(product_of_natural_number)"
   ]
  },
  {
   "cell_type": "markdown",
   "id": "4d8ff96e",
   "metadata": {},
   "source": [
    "### Q3. Create a python program to compute the electricity bill for a household.\n",
    "### The per-unit charges in rupees are as follows: For the first 100 units, the user will be charged Rs. 4.5 per\n",
    "### unit, for the next 100 units, the user will be charged Rs. 6 per unit, and for the next 100 units, the user will\n",
    "### be charged Rs. 10 per unit, After 300 units and above the user will be charged Rs. 20 per unit.\n",
    "### You are required to take the units of electricity consumed in a month from the user as input.\n",
    "### Your program must pass this test case: when the unit of electricity consumed by the user in a month is\n",
    "### 310, the total electricity bill should be 2250."
   ]
  },
  {
   "cell_type": "code",
   "execution_count": 4,
   "id": "89ddcbb4",
   "metadata": {},
   "outputs": [
    {
     "name": "stdout",
     "output_type": "stream",
     "text": [
      "Enter your electricity unit value : 310\n",
      "your electricity bill : 2250.0 rupees\n"
     ]
    }
   ],
   "source": [
    "# get user electricity unit value\n",
    "eu = float(input('Enter your electricity unit value : '))\n",
    "\n",
    "bill = 0\n",
    "\n",
    "#set condition for charges for used electricity unit\n",
    "if(eu <= 100):\n",
    "    bill += eu*4.5\n",
    "if(eu > 100 and eu <= 200):\n",
    "    bill += 100*4.5 + (eu-100)*6  \n",
    "if(eu > 200 and eu <= 300):\n",
    "    bill += 100*4.5 + 100*6 + (eu-200)*10\n",
    "if(eu > 300):\n",
    "    bill += 100*4.5 + 100*6 + 100*10 + (eu-300)*20\n",
    "    \n",
    "#print electricity bill\n",
    "bill_text = 'your electricity bill : {} rupees'.format(bill)\n",
    "print(bill_text)"
   ]
  },
  {
   "cell_type": "markdown",
   "id": "dca2fe04",
   "metadata": {},
   "source": [
    "### Q4. Create a list of numbers from 1 to 100. Use for loop and while loop to calculate the cube of each\n",
    "### number and if the cube of that number is divisible by 4 or 5 then append that number in a list and print\n",
    "### that list."
   ]
  },
  {
   "cell_type": "code",
   "execution_count": 8,
   "id": "1287e284",
   "metadata": {},
   "outputs": [
    {
     "data": {
      "text/plain": [
       "[2,\n",
       " 4,\n",
       " 5,\n",
       " 6,\n",
       " 8,\n",
       " 10,\n",
       " 12,\n",
       " 14,\n",
       " 15,\n",
       " 16,\n",
       " 18,\n",
       " 20,\n",
       " 22,\n",
       " 24,\n",
       " 25,\n",
       " 26,\n",
       " 28,\n",
       " 30,\n",
       " 32,\n",
       " 34,\n",
       " 35,\n",
       " 36,\n",
       " 38,\n",
       " 40,\n",
       " 42,\n",
       " 44,\n",
       " 45,\n",
       " 46,\n",
       " 48,\n",
       " 50,\n",
       " 52,\n",
       " 54,\n",
       " 55,\n",
       " 56,\n",
       " 58,\n",
       " 60,\n",
       " 62,\n",
       " 64,\n",
       " 65,\n",
       " 66,\n",
       " 68,\n",
       " 70,\n",
       " 72,\n",
       " 74,\n",
       " 75,\n",
       " 76,\n",
       " 78,\n",
       " 80,\n",
       " 82,\n",
       " 84,\n",
       " 85,\n",
       " 86,\n",
       " 88,\n",
       " 90,\n",
       " 92,\n",
       " 94,\n",
       " 95,\n",
       " 96,\n",
       " 98,\n",
       " 100]"
      ]
     },
     "execution_count": 8,
     "metadata": {},
     "output_type": "execute_result"
    }
   ],
   "source": [
    "list = [i for i in range(1,101)]\n",
    "# for loop\n",
    "new_for_list = []\n",
    "for i in list:\n",
    "    y = i**3\n",
    "    if(y%4 == 0 or y%5 == 0):\n",
    "        new_for_list.append(i)\n",
    "new_for_list"
   ]
  },
  {
   "cell_type": "code",
   "execution_count": 9,
   "id": "5961d9c3",
   "metadata": {},
   "outputs": [
    {
     "data": {
      "text/plain": [
       "[2,\n",
       " 4,\n",
       " 5,\n",
       " 6,\n",
       " 8,\n",
       " 10,\n",
       " 12,\n",
       " 14,\n",
       " 15,\n",
       " 16,\n",
       " 18,\n",
       " 20,\n",
       " 22,\n",
       " 24,\n",
       " 25,\n",
       " 26,\n",
       " 28,\n",
       " 30,\n",
       " 32,\n",
       " 34,\n",
       " 35,\n",
       " 36,\n",
       " 38,\n",
       " 40,\n",
       " 42,\n",
       " 44,\n",
       " 45,\n",
       " 46,\n",
       " 48,\n",
       " 50,\n",
       " 52,\n",
       " 54,\n",
       " 55,\n",
       " 56,\n",
       " 58,\n",
       " 60,\n",
       " 62,\n",
       " 64,\n",
       " 65,\n",
       " 66,\n",
       " 68,\n",
       " 70,\n",
       " 72,\n",
       " 74,\n",
       " 75,\n",
       " 76,\n",
       " 78,\n",
       " 80,\n",
       " 82,\n",
       " 84,\n",
       " 85,\n",
       " 86,\n",
       " 88,\n",
       " 90,\n",
       " 92,\n",
       " 94,\n",
       " 95,\n",
       " 96,\n",
       " 98,\n",
       " 100]"
      ]
     },
     "execution_count": 9,
     "metadata": {},
     "output_type": "execute_result"
    }
   ],
   "source": [
    "# while loop\n",
    "n = 1\n",
    "new_while_list = []\n",
    "while n <= len(list):\n",
    "    z = list[n-1]**3\n",
    "    if(z%4 == 0 or z%5 == 0):\n",
    "        new_while_list.append(n)\n",
    "    n += 1\n",
    "new_while_list"
   ]
  },
  {
   "cell_type": "markdown",
   "id": "c8f7479d",
   "metadata": {},
   "source": [
    "### Q5. Write a program to filter count vowels in the below-given string.\n",
    "### string = \"I want to become a data scientist\""
   ]
  },
  {
   "cell_type": "code",
   "execution_count": 11,
   "id": "fa73d29a",
   "metadata": {},
   "outputs": [
    {
     "data": {
      "text/plain": [
       "12"
      ]
     },
     "execution_count": 11,
     "metadata": {},
     "output_type": "execute_result"
    }
   ],
   "source": [
    "str = \"I want to become a data scientist\"\n",
    "vowels = ['a','e','i','o','u']\n",
    "vowel_count = 0\n",
    "for i in str:\n",
    "    if(i.lower() in vowels):\n",
    "        vowel_count += 1\n",
    "vowel_count "
   ]
  },
  {
   "cell_type": "code",
   "execution_count": null,
   "id": "5d9d081a",
   "metadata": {},
   "outputs": [],
   "source": []
  }
 ],
 "metadata": {
  "kernelspec": {
   "display_name": "Python 3 (ipykernel)",
   "language": "python",
   "name": "python3"
  },
  "language_info": {
   "codemirror_mode": {
    "name": "ipython",
    "version": 3
   },
   "file_extension": ".py",
   "mimetype": "text/x-python",
   "name": "python",
   "nbconvert_exporter": "python",
   "pygments_lexer": "ipython3",
   "version": "3.11.1"
  }
 },
 "nbformat": 4,
 "nbformat_minor": 5
}
